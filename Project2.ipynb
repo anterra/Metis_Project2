{
 "cells": [
  {
   "cell_type": "markdown",
   "metadata": {},
   "source": [
    "* Topic:        Challenge Set 3\n",
    "* Subject:      Pandas (Exploring and visualizing our scraped movie data in pandas)\n",
    "* Date:         TODO\n",
    "* Name:         Michael Green ( malexgreen@gmail.com )"
   ]
  },
  {
   "cell_type": "markdown",
   "metadata": {},
   "source": [
    "What data do I need to read in if I'm going to scrape IMDB.com?\n",
    "\n",
    "Here's what is in `GITROOT/challenges/challenges_data/2013_movies.csv`\n",
    "\n",
    "```csv\n",
    "Title,Budget,DomesticTotalGross,Director,Rating,Runtime,ReleaseDate\n",
    "\n",
    "```\n",
    "\n",
    "So if I'm going to scrape IMDB, I'll need the same data:\n",
    "\n",
    "* `title`: Name of the movie\n",
    "* `budget`: How much money was spent to make the movie\n",
    "* `domesticTotalGross`: How much money did the movie make in gross ticket sales in the US\n",
    "* `rating`: MPAA Rating\n",
    "* `director`: Name of the director\n",
    "* `releaseDate`: Calendar date of the release. Time of release is assumed to be 12AM EDT\n",
    "\n",
    "Note: This code will be reused for [Project 2](https://github.com/michael-a-green/onl20_ds4/blob/master/curriculum/project-02/project-02-introduction/project_02.md). Some of the fetures extracted in this notebook are used for this challenge (Challenge Set 3) and other features are used in the project.\n",
    "\n",
    "Below are the features that are extracted in this notebook that are used for the challenge:\n",
    "\n",
    "* `title`: Name of the movie\n",
    "* `budget`: How much money was spent to make the movie\n",
    "* `domesticTotalGross`: How much money did the movie make in gross ticket sales in the US\n",
    "* `rating`: MPAA Rating\n",
    "* `director`: Name of the director\n",
    "* `releaseDate`: Calendar date of the release. Time of release is assumed to be 12AM EDT\n",
    "\n",
    "Below are the features that will be used in the linear regression that will be performed in Project 2:\n",
    "\n",
    "* `budget`: How much money was spent to make the movie\n",
    "* `rating`: MPAA Rating, one-hot encoded\n",
    "* `encodedDirector`: Name of the director, but encoded in a specific way that will be explained below\n",
    "* `releaseDate`: Calendar date of the release. Time of release is assumed to be 12AM EDT\n",
    "* `genre` one-hot encoded. See below for more details\n",
    "* `runtime` measured in minutes\n",
    "* `encodedCast1` one-hot encoded value of the name of a cast member if that cast member is in a specific list of cast members. Details of the encoding are explained below\n",
    "* `encodedCast2` one-hot encoded value of the name of a another cast member if that cast member is in a specific list of cast members. Details of the encoding are explained below\n",
    "\n",
    "\n"
   ]
  },
  {
   "cell_type": "markdown",
   "metadata": {},
   "source": [
    "Notes on imdb.com web page structure:\n",
    "\n",
    "I searched for the move _Star Wars: Episode IV - A New Hope_.\n",
    "\n",
    "This is the URL it gave to me:\n",
    "`https://www.imdb.com/title/tt0076759/?ref_=nv_sr_srsg_0`\n",
    "\n",
    "This is where I found the content I need for this page`<div>` of a movie entry:\n",
    "\n",
    "```html\n",
    "<div id=\"pagecontent\" class=\"pagecontent\">\n",
    "    <div id=\"main_bottom\" class=\"main\">\n",
    "        \n",
    "        <div class=\"article\" id=\"titleStoryLine\">\n",
    "            \n",
    "        </div>\n",
    "    \n",
    "    \n",
    "    <div class=\"article\" id=\"titleDetails\">\n",
    "\n",
    "        <div class=\"txt-block>\n",
    "            <h4 class=\"inline\">Release Date:</h4>\n",
    "            \" 25 May 1977 (USA) \"\n",
    "            <!-- more stuff see web page for details -->\n",
    "        </div>\n",
    "        <div class=\"txt-block>\n",
    "            <h4 class=\"inline\">Also Known As:</h4>\n",
    "            \" Star Wars: Episode IV - A New Hope \"\n",
    "             <!-- more stuff see web page for details -->\n",
    "        </div>\n",
    "        <h3 class=\"subheading\">Box Office</h3>\n",
    "        <div class=\"txt-block\">\n",
    "            <h4 class=\"inline\">Budget:</h4>\n",
    "            \"$11,000,000 \"\n",
    "            <!-- more stuff see web page for details -->\n",
    "        </div>\n",
    "        <div class=\"txt-block\">\n",
    "            <h4 class=\"inline\">Gross USA:</h4>\n",
    "            \" $460,998,507 \"\n",
    "        </div>\n",
    "        \n",
    "    </div>\n",
    "\n",
    "</div>\n",
    "\n",
    "\n",
    "```"
   ]
  },
  {
   "cell_type": "markdown",
   "metadata": {},
   "source": [
    "# Data Scraping and Cleaning"
   ]
  },
  {
   "cell_type": "code",
   "execution_count": 196,
   "metadata": {},
   "outputs": [],
   "source": [
    "#Just going to try beautiful soup to see if I can grab all of the txt-blocks\n",
    "from bs4 import BeautifulSoup\n",
    "from random import randint\n",
    "import pandas as pd\n",
    "import numpy as np\n",
    "import matplotlib.pyplot as plt\n",
    "import requests\n",
    "import re\n",
    "import time\n",
    "import pickle\n",
    "import os\n",
    "import datetime\n",
    "import seaborn as sns\n",
    "\n",
    "from sklearn.linear_model import LinearRegression\n",
    "from sklearn.linear_model import Ridge\n",
    "from sklearn.linear_model import Lasso\n",
    "from sklearn.model_selection import train_test_split\n",
    "\n",
    "from sklearn.pipeline import Pipeline\n",
    "from sklearn.preprocessing import StandardScaler"
   ]
  },
  {
   "cell_type": "code",
   "execution_count": 197,
   "metadata": {},
   "outputs": [],
   "source": [
    "#movie module\n",
    "from mymovie import Movie"
   ]
  },
  {
   "cell_type": "code",
   "execution_count": 198,
   "metadata": {},
   "outputs": [],
   "source": [
    "%matplotlib inline"
   ]
  },
  {
   "cell_type": "code",
   "execution_count": 199,
   "metadata": {},
   "outputs": [],
   "source": [
    "def my_wait(start,stop):\n",
    "    \"\"\"\n",
    "    waits a number of seconds randomly selected between start and stop\n",
    "    \"\"\"\n",
    "    if start <= 0:\n",
    "        start = 10\n",
    "    \n",
    "    if stop <= 0:\n",
    "        stop = 30\n",
    "    \n",
    "    if stop <= start:\n",
    "        stop = start + 10\n",
    "    \n",
    "    wait_time = randint(start,stop)\n",
    "    \n",
    "    time.sleep(wait_time)\n",
    "    \n",
    "    return\n",
    "    "
   ]
  },
  {
   "cell_type": "code",
   "execution_count": 200,
   "metadata": {},
   "outputs": [],
   "source": [
    "def my_print(print_string,debug=0,LOG_FILE=None):\n",
    "    \"\"\"\n",
    "    LOG_FILE = Must be a file handle\n",
    "    \"\"\"\n",
    "    \n",
    "    if (debug):\n",
    "        if (LOG_FILE == None):\n",
    "            print(print_string)\n",
    "        else:\n",
    "            print(print_string, file=LOG_FILE)\n"
   ]
  },
  {
   "cell_type": "code",
   "execution_count": 201,
   "metadata": {},
   "outputs": [
    {
     "name": "stdout",
     "output_type": "stream",
     "text": [
      "title = Star Wars Episode IV domesticTotalGross = 0 rating =  director =  releaseDate =  runtime = 0 cast1 =  cast2 =  cast3 =   genre =  budget = 0 star_rating = 0 directlink_url = www.intel.com\n"
     ]
    }
   ],
   "source": [
    "star_wars = Movie(\"Star Wars Episode IV\",\"www.intel.com\")\n",
    "my_print(star_wars,1)"
   ]
  },
  {
   "cell_type": "code",
   "execution_count": 202,
   "metadata": {},
   "outputs": [],
   "source": [
    "#search for movies released in 2013\n",
    "\n",
    "#Set DEBUG to some_value >= 1 if you want to see debug messages\n",
    "DEBUG = 1\n",
    "log_file_name = \"notebook.log\"\n",
    "LOG_FILE = open(log_file_name,\"w\")\n",
    "\n",
    "RANDOM_STATE = 42\n",
    "\n",
    "RUN_SCRAPE = 0\n",
    "\n",
    "#possibly better search\n",
    "#search_url = \"https://www.imdb.com/search/title/?title_type=feature&release_date=2010-01-01,2019-12-31&certificates=US%3AG,US%3APG,US%3APG-13,US%3AR,US%3ANC-17\"\n",
    "#search_url = \"https://www.imdb.com/search/title/?title_type=feature&release_date=2013-01-01,2013-12-31\"\n",
    "\n",
    "search_url = \"https://www.imdb.com/search/title/?title_type=feature&release_date=2010-01-01,2019-12-31&certificates=US%3AG,US%3APG,US%3APG-13,US%3AR,US%3ANC-17&countries=us\"\n",
    "\n",
    "IMDB_ROOT_URL = \"http://www.imdb.com\"\n",
    "\n",
    "list_of_movie_objects = []\n",
    "\n",
    "#flag that tells me if this is the first search I \n",
    "#sent to IMDB or not (1 means it's the first search, 0 means it's a subsequent search)\n",
    "first_search = 1\n",
    "\n",
    "NUMBER_OF_MOVIES = 4000\n",
    "NUMBER_OF_MOVIES_PER_SEARCH = 50\n",
    "\n",
    "#won't exactly get the number of movies I want but won't get\n",
    "#less than the number of movies I want\n",
    "if (NUMBER_OF_MOVIES % NUMBER_OF_MOVIES_PER_SEARCH) == 0:\n",
    "    number_of_searches = NUMBER_OF_MOVIES // NUMBER_OF_MOVIES_PER_SEARCH\n",
    "else:\n",
    "    number_of_searches = (NUMBER_OF_MOVIES // NUMBER_OF_MOVIES_PER_SEARCH) + 1\n",
    "\n",
    "\n",
    "#FOR DEBUG ONLY\n",
    "#hard coding number_of_searches\n",
    "#number_of_searches = 3\n",
    "\n",
    "\n",
    "    "
   ]
  },
  {
   "cell_type": "code",
   "execution_count": 203,
   "metadata": {},
   "outputs": [
    {
     "name": "stdout",
     "output_type": "stream",
     "text": [
      "Skipping scrape\n"
     ]
    }
   ],
   "source": [
    "#search IMD for movies\n",
    "#find direct link to movies\n",
    "#create a movie object with the title and the link to the movie\n",
    "#write it to a pickle file\n",
    "#find link to next search\n",
    "if RUN_SCRAPE:\n",
    "    for i in range(number_of_searches):\n",
    "    \n",
    "        my_print(\"\\nwaiting before I scrape...\", DEBUG, LOG_FILE)\n",
    "        my_wait(10,35)\n",
    "        my_print(\"done waiting\", DEBUG, LOG_FILE)\n",
    "        \n",
    "        if os.path.isfile(\"STOP_SEARCHING.txt\"):\n",
    "            print(\"Saw file STOP_SEARCHING.txt. So will stop searching for movies\")\n",
    "            break\n",
    "    \n",
    "        #DANGER: INITIATE SEARCH REQUEST TO IMDB\n",
    "        web_response = requests.get(search_url)\n",
    "    \n",
    "        if (web_response.status_code == 200):\n",
    "            my_print(\"web request was good\", DEBUG, LOG_FILE)\n",
    "        else:\n",
    "            print(\"error: web request failed\",DEBUG, LOG_FILE)\n",
    "            break\n",
    "    \n",
    "        #contains IMDB movie search results\n",
    "        web_response_text = web_response.text\n",
    "        my_print(\"got web response text\", DEBUG, LOG_FILE)\n",
    "    \n",
    "        #convert web response to a soup object\n",
    "        web_response_soup = BeautifulSoup(web_response_text)\n",
    "    \n",
    "        my_print(\"got web response soup\", DEBUG, LOG_FILE)\n",
    "    \n",
    "        #the <div> that has the data I want is this one\n",
    "        listOfListerItemContentDIV = web_response_soup.find_all(\"div\",class_=\"lister-item-content\")\n",
    "    \n",
    "        my_print(\"got divs for movies\", DEBUG, LOG_FILE)\n",
    "    \n",
    "        if first_search == 1:\n",
    "            PICKLE_FILE = open(\"Movie_objects.pkl\",\"wb\")\n",
    "            my_print(\"opening pickle file for writing\", DEBUG, LOG_FILE)\n",
    "        else:\n",
    "            PICKLE_FILE = open(\"Movie_objects.pkl\",\"ab\")\n",
    "            my_print(\"opening pickle file for appending\", DEBUG, LOG_FILE)\n",
    "\n",
    "\n",
    "    \n",
    "        #########################################################\n",
    "        #\n",
    "        # search through the <div class_=\"lister-item-content> tags\n",
    "        # looking for the information I want\n",
    "        #\n",
    "        ###########################################################\n",
    "        for listerItemContentDIV in listOfListerItemContentDIV:\n",
    "        \n",
    "            #these accesses  rely on the knowledge of the structure\n",
    "            #of the web page. hopefully it doesn't change a lot\n",
    "            link_to_movie = listerItemContentDIV.h3.a.get(\"href\")\n",
    "            title_of_the_movie = listerItemContentDIV.h3.a.text\n",
    "            link_to_movie = IMDB_ROOT_URL + link_to_movie\n",
    "        \n",
    "        \n",
    "            #CREATING MOVIE OBJECT\n",
    "            themovie = Movie(title_of_the_movie,link_to_movie)\n",
    "        \n",
    "            my_print(themovie, DEBUG, LOG_FILE)\n",
    "        \n",
    "            if themovie != None:\n",
    "                #TODO: Check status of pickle.dump() call for error\n",
    "                pickle.dump(themovie,PICKLE_FILE)\n",
    "            else:\n",
    "                my_print(\"error: themovie is None and should not be!\", 1, LOG_FILE)\n",
    "                break\n",
    "        \n",
    "            my_print(\"done writing pickl file\", DEBUG, LOG_FILE)\n",
    "        \n",
    "        #we found the first 50 movie links\n",
    "        #close the pickle\n",
    "        PICKLE_FILE.close()\n",
    "        #wait a little to give time to flush the file buffer\n",
    "        my_wait(1,3)\n",
    "    \n",
    "        #grab link to the next 50 movies\n",
    "        #The links are in the <div class=\"desc\">\n",
    "        listOfDescDIV = web_response_soup.find_all(\"div\",class_=\"desc\")\n",
    "    \n",
    "        #Big assumption. There will be two <div class=\"desc\">\n",
    "        #tags on the search web page, and that the \"Next\" link and the\n",
    "        #\"Previous\" link will be in that <div> tag. So you can\n",
    "        #always pick the first one\n",
    "        DescDIV_a_tag = listOfDescDIV[0].find_all(\"a\")\n",
    "    \n",
    "        for a_tag in DescDIV_a_tag:\n",
    "            temp_text = a_tag.text\n",
    "            if re.match(r\"Next\",temp_text):\n",
    "                link_to_next_page = IMDB_ROOT_URL + a_tag.get(\"href\")\n",
    "    \n",
    "        #going to try this\n",
    "        #get text for DIV\n",
    "        #pass it to soup to get another soup object\n",
    "    \n",
    "        my_print(\"link to next search page is {}\".format(link_to_next_page), DEBUG, LOG_FILE)\n",
    "\n",
    "    \n",
    "        #doing this for debug purposes --> making debugging easier\n",
    "    \n",
    "        search_url = link_to_next_page\n",
    "        first_search = 0\n",
    "else:\n",
    "    print(\"Skipping scrape\")\n",
    "    "
   ]
  },
  {
   "cell_type": "code",
   "execution_count": 204,
   "metadata": {},
   "outputs": [
    {
     "name": "stdout",
     "output_type": "stream",
     "text": [
      "Skipping scrape\n"
     ]
    }
   ],
   "source": [
    "if RUN_SCRAPE:\n",
    "    #Check Code Uncomment to check pickle file\n",
    "    #also reference for sear\n",
    "    #Just going to grab all of the Movie objects out of the pickle file and see if they all got in\n",
    "    PICKLE_FILE = open(\"Movie_objects.pkl\",\"rb\")\n",
    "\n",
    "    #saving it here as a backup just in case I get locked out\n",
    "    #at least I'll have the data\n",
    "    EXPANDED_PICKLE_FILE = open(\"Movie_populated_objects.pkl\",\"wb\")\n",
    "    list_of_populated_movies = []\n",
    "    while 1:\n",
    "                \n",
    "        if os.path.isfile(\"STOP_EXPANDING.txt\"):\n",
    "            print(\"Saw file STOP_EXPANDIN.txt. So will stop populating movies.\")\n",
    "            break\n",
    "            \n",
    "        try:\n",
    "            mymovie = pickle.load(PICKLE_FILE)\n",
    "            mymovie.populate_movie(DEBUG=1,LOG_FILE=LOG_FILE,start_time=5,stop_time=17)\n",
    "            #list_of_populated_movies.append(mymovie)\n",
    "            pickle.dump(mymovie,EXPANDED_PICKLE_FILE)\n",
    "            #uncomment for debugging only\n",
    "\n",
    "            my_print(mymovie, DEBUG, LOG_FILE)\n",
    "        \n",
    "        except EOFError:\n",
    "            break\n",
    "\n",
    "    PICKLE_FILE.close()\n",
    "    EXPANDED_PICKLE_FILE.close()\n",
    "else:\n",
    "    print(\"Skipping scrape\")"
   ]
  },
  {
   "cell_type": "markdown",
   "metadata": {},
   "source": [
    "Note if you are debugging and want to read in the full dataset, that file is called `Movie_populated_objects_4000.pkl`. You should copy that file to the name `Movie_populated_objects_4000.pkl` before running the next and subsequent shell. \n",
    "\n",
    "**TODO**: May add shell commmands to this automatically"
   ]
  },
  {
   "cell_type": "markdown",
   "metadata": {},
   "source": [
    "How many movies did I scrape?"
   ]
  },
  {
   "cell_type": "code",
   "execution_count": 205,
   "metadata": {},
   "outputs": [
    {
     "name": "stdout",
     "output_type": "stream",
     "text": [
      "Number of movies read: 4000\n"
     ]
    }
   ],
   "source": [
    "#Read In pickle file of populated objects\n",
    "list_of_populated_movies = []\n",
    "EXPANDED_PICKLE_FILE = open(\"Movie_populated_objects.pkl\",\"rb\")\n",
    "while 1:\n",
    "    \n",
    "    try:\n",
    "        mymovie = pickle.load(EXPANDED_PICKLE_FILE)\n",
    "        list_of_populated_movies.append(mymovie)\n",
    "        my_print(mymovie, DEBUG, LOG_FILE)\n",
    "    except EOFError:\n",
    "        my_print(\"DONE Reading in movie objects\",DEBUG,LOG_FILE)\n",
    "        break\n",
    "\n",
    "EXPANDED_PICKLE_FILE.close()\n",
    "print(\"Number of movies read: {}\".format(len(list_of_populated_movies)))\n"
   ]
  },
  {
   "cell_type": "code",
   "execution_count": 206,
   "metadata": {},
   "outputs": [
    {
     "data": {
      "text/plain": [
       "dict_keys(['__module__', '__doc__', '__init__', '__repr__', 'populate_movie', '__dict__', '__weakref__'])"
      ]
     },
     "execution_count": 206,
     "metadata": {},
     "output_type": "execute_result"
    }
   ],
   "source": [
    "#creating a dictionary of the entries of each movie object\n",
    "Movie.__dict__.keys()"
   ]
  },
  {
   "cell_type": "code",
   "execution_count": 207,
   "metadata": {},
   "outputs": [
    {
     "name": "stdout",
     "output_type": "stream",
     "text": [
      "['title', 'directlink_url', 'domesticTotalGross', 'rating', 'director', 'releaseDate', 'genre', 'runtime', 'cast1', 'cast2', 'cast3', 'budget', 'star_rating']\n"
     ]
    }
   ],
   "source": [
    "column_names_in_df = list(list_of_populated_movies[0].__dict__.keys())\n",
    "my_print(column_names_in_df,DEBUG)"
   ]
  },
  {
   "cell_type": "code",
   "execution_count": 208,
   "metadata": {},
   "outputs": [
    {
     "name": "stdout",
     "output_type": "stream",
     "text": [
      "['On the Basis of Sex', 'http://www.imdb.com/title/tt4669788/', 24704837, 'PG-13', 'Mimi Leder', '11 January 2019', 'Biography', 120, 'Felicity Jones', 'Armie Hammer', 'Justin Theroux', 20000000, 7.1]\n"
     ]
    }
   ],
   "source": [
    "column_values_in_df = list(list_of_populated_movies[0].__dict__.values())\n",
    "my_print(column_values_in_df,DEBUG)"
   ]
  },
  {
   "cell_type": "code",
   "execution_count": 209,
   "metadata": {},
   "outputs": [],
   "source": [
    "\n",
    "#TODO: Write a get method that takes a data member name as an argument so I can do a 2D comprehension (or at least a for loop) next time or find out how to do that without a get method\n",
    "list_of_movie_data_lists = []\n",
    "\n",
    "for movie_key in column_names_in_df:\n",
    "    \n",
    "    list_of_movie_data_values = []\n",
    "    \n",
    "    for movie_obj in list_of_populated_movies:\n",
    "        list_of_movie_data_values.append( movie_obj.__dict__[movie_key] )\n",
    "    \n",
    "    list_of_movie_data_lists.append(list_of_movie_data_values)\n",
    "\n",
    "#create dictionary that will be used to create pandas data frame\n",
    "\n",
    "movie_dict = dict(zip(column_names_in_df,list_of_movie_data_lists))\n",
    "\n"
   ]
  },
  {
   "cell_type": "code",
   "execution_count": 210,
   "metadata": {},
   "outputs": [
    {
     "data": {
      "text/plain": [
       "dict_keys(['title', 'directlink_url', 'domesticTotalGross', 'rating', 'director', 'releaseDate', 'genre', 'runtime', 'cast1', 'cast2', 'cast3', 'budget', 'star_rating'])"
      ]
     },
     "execution_count": 210,
     "metadata": {},
     "output_type": "execute_result"
    }
   ],
   "source": [
    "movie_dict.keys()"
   ]
  },
  {
   "cell_type": "code",
   "execution_count": 211,
   "metadata": {},
   "outputs": [
    {
     "data": {
      "text/html": [
       "<div>\n",
       "<style scoped>\n",
       "    .dataframe tbody tr th:only-of-type {\n",
       "        vertical-align: middle;\n",
       "    }\n",
       "\n",
       "    .dataframe tbody tr th {\n",
       "        vertical-align: top;\n",
       "    }\n",
       "\n",
       "    .dataframe thead th {\n",
       "        text-align: right;\n",
       "    }\n",
       "</style>\n",
       "<table border=\"1\" class=\"dataframe\">\n",
       "  <thead>\n",
       "    <tr style=\"text-align: right;\">\n",
       "      <th></th>\n",
       "      <th>title</th>\n",
       "      <th>directlink_url</th>\n",
       "      <th>domesticTotalGross</th>\n",
       "      <th>rating</th>\n",
       "      <th>director</th>\n",
       "      <th>releaseDate</th>\n",
       "      <th>genre</th>\n",
       "      <th>runtime</th>\n",
       "      <th>cast1</th>\n",
       "      <th>cast2</th>\n",
       "      <th>cast3</th>\n",
       "      <th>budget</th>\n",
       "      <th>star_rating</th>\n",
       "    </tr>\n",
       "  </thead>\n",
       "  <tbody>\n",
       "    <tr>\n",
       "      <th>0</th>\n",
       "      <td>On the Basis of Sex</td>\n",
       "      <td>http://www.imdb.com/title/tt4669788/</td>\n",
       "      <td>24704837</td>\n",
       "      <td>PG-13</td>\n",
       "      <td>Mimi Leder</td>\n",
       "      <td>11 January 2019</td>\n",
       "      <td>Biography</td>\n",
       "      <td>120</td>\n",
       "      <td>Felicity Jones</td>\n",
       "      <td>Armie Hammer</td>\n",
       "      <td>Justin Theroux</td>\n",
       "      <td>20000000</td>\n",
       "      <td>7.1</td>\n",
       "    </tr>\n",
       "    <tr>\n",
       "      <th>1</th>\n",
       "      <td>The Gentlemen</td>\n",
       "      <td>http://www.imdb.com/title/tt8367814/</td>\n",
       "      <td>36471795</td>\n",
       "      <td>R</td>\n",
       "      <td>Guy Ritchie</td>\n",
       "      <td>24 January 2020</td>\n",
       "      <td>Action</td>\n",
       "      <td>113</td>\n",
       "      <td>Matthew McConaughey</td>\n",
       "      <td>Charlie Hunnam</td>\n",
       "      <td>Michelle Dockery</td>\n",
       "      <td>22000000</td>\n",
       "      <td>7.9</td>\n",
       "    </tr>\n",
       "    <tr>\n",
       "      <th>2</th>\n",
       "      <td>Knives Out</td>\n",
       "      <td>http://www.imdb.com/title/tt8946378/</td>\n",
       "      <td>165363234</td>\n",
       "      <td>PG-13</td>\n",
       "      <td>Rian Johnson</td>\n",
       "      <td>27 November 2019</td>\n",
       "      <td>Comedy</td>\n",
       "      <td>130</td>\n",
       "      <td>Daniel Craig</td>\n",
       "      <td>Chris Evans</td>\n",
       "      <td>Ana de Armas</td>\n",
       "      <td>40000000</td>\n",
       "      <td>7.9</td>\n",
       "    </tr>\n",
       "    <tr>\n",
       "      <th>3</th>\n",
       "      <td>Bastille Day</td>\n",
       "      <td>http://www.imdb.com/title/tt2368619/</td>\n",
       "      <td>50269</td>\n",
       "      <td>R</td>\n",
       "      <td>James Watkins</td>\n",
       "      <td>18 November 2016</td>\n",
       "      <td>Action</td>\n",
       "      <td>92</td>\n",
       "      <td>Idris Elba</td>\n",
       "      <td>Richard Madden</td>\n",
       "      <td>Charlotte Le Bon</td>\n",
       "      <td>20000000</td>\n",
       "      <td>6.3</td>\n",
       "    </tr>\n",
       "    <tr>\n",
       "      <th>4</th>\n",
       "      <td>Joker</td>\n",
       "      <td>http://www.imdb.com/title/tt7286456/</td>\n",
       "      <td>335451311</td>\n",
       "      <td>R</td>\n",
       "      <td>Todd Phillips</td>\n",
       "      <td>4 October 2019</td>\n",
       "      <td>Crime</td>\n",
       "      <td>122</td>\n",
       "      <td>Joaquin Phoenix</td>\n",
       "      <td>Robert De Niro</td>\n",
       "      <td>Zazie Beetz</td>\n",
       "      <td>55000000</td>\n",
       "      <td>8.5</td>\n",
       "    </tr>\n",
       "    <tr>\n",
       "      <th>5</th>\n",
       "      <td>Avengers: Endgame</td>\n",
       "      <td>http://www.imdb.com/title/tt4154796/</td>\n",
       "      <td>858373000</td>\n",
       "      <td>PG-13</td>\n",
       "      <td>Anthony Russo</td>\n",
       "      <td>26 April 2019</td>\n",
       "      <td>Action</td>\n",
       "      <td>181</td>\n",
       "      <td>Robert Downey Jr.</td>\n",
       "      <td>Chris Evans</td>\n",
       "      <td>Mark Ruffalo</td>\n",
       "      <td>356000000</td>\n",
       "      <td>8.4</td>\n",
       "    </tr>\n",
       "    <tr>\n",
       "      <th>6</th>\n",
       "      <td>Interstellar</td>\n",
       "      <td>http://www.imdb.com/title/tt0816692/</td>\n",
       "      <td>188020017</td>\n",
       "      <td>PG-13</td>\n",
       "      <td>Christopher Nolan</td>\n",
       "      <td>7 November 2014</td>\n",
       "      <td>Adventure</td>\n",
       "      <td>169</td>\n",
       "      <td>Matthew McConaughey</td>\n",
       "      <td>Anne Hathaway</td>\n",
       "      <td>Jessica Chastain</td>\n",
       "      <td>165000000</td>\n",
       "      <td>8.6</td>\n",
       "    </tr>\n",
       "    <tr>\n",
       "      <th>7</th>\n",
       "      <td>Terminator: Dark Fate</td>\n",
       "      <td>http://www.imdb.com/title/tt6450804/</td>\n",
       "      <td>62253077</td>\n",
       "      <td>R</td>\n",
       "      <td>Tim Miller</td>\n",
       "      <td>1 November 2019</td>\n",
       "      <td>Action</td>\n",
       "      <td>128</td>\n",
       "      <td>Linda Hamilton</td>\n",
       "      <td>Arnold Schwarzenegger</td>\n",
       "      <td>Mackenzie Davis</td>\n",
       "      <td>185000000</td>\n",
       "      <td>6.2</td>\n",
       "    </tr>\n",
       "    <tr>\n",
       "      <th>8</th>\n",
       "      <td>Once Upon a Time... in Hollywood</td>\n",
       "      <td>http://www.imdb.com/title/tt7131622/</td>\n",
       "      <td>142502728</td>\n",
       "      <td>R</td>\n",
       "      <td>Quentin Tarantino</td>\n",
       "      <td>26 July 2019</td>\n",
       "      <td>Comedy</td>\n",
       "      <td>161</td>\n",
       "      <td>Leonardo DiCaprio</td>\n",
       "      <td>Brad Pitt</td>\n",
       "      <td>Margot Robbie</td>\n",
       "      <td>90000000</td>\n",
       "      <td>7.6</td>\n",
       "    </tr>\n",
       "    <tr>\n",
       "      <th>9</th>\n",
       "      <td>Beauty and the Beast</td>\n",
       "      <td>http://www.imdb.com/title/tt2771200/</td>\n",
       "      <td>504481165</td>\n",
       "      <td>PG</td>\n",
       "      <td>Bill Condon</td>\n",
       "      <td>17 March 2017</td>\n",
       "      <td>Family</td>\n",
       "      <td>129</td>\n",
       "      <td>Emma Watson</td>\n",
       "      <td>Dan Stevens</td>\n",
       "      <td>Luke Evans</td>\n",
       "      <td>160000000</td>\n",
       "      <td>7.1</td>\n",
       "    </tr>\n",
       "  </tbody>\n",
       "</table>\n",
       "</div>"
      ],
      "text/plain": [
       "                              title                        directlink_url  \\\n",
       "0               On the Basis of Sex  http://www.imdb.com/title/tt4669788/   \n",
       "1                     The Gentlemen  http://www.imdb.com/title/tt8367814/   \n",
       "2                        Knives Out  http://www.imdb.com/title/tt8946378/   \n",
       "3                      Bastille Day  http://www.imdb.com/title/tt2368619/   \n",
       "4                             Joker  http://www.imdb.com/title/tt7286456/   \n",
       "5                 Avengers: Endgame  http://www.imdb.com/title/tt4154796/   \n",
       "6                      Interstellar  http://www.imdb.com/title/tt0816692/   \n",
       "7             Terminator: Dark Fate  http://www.imdb.com/title/tt6450804/   \n",
       "8  Once Upon a Time... in Hollywood  http://www.imdb.com/title/tt7131622/   \n",
       "9              Beauty and the Beast  http://www.imdb.com/title/tt2771200/   \n",
       "\n",
       "   domesticTotalGross rating           director       releaseDate      genre  \\\n",
       "0            24704837  PG-13         Mimi Leder   11 January 2019  Biography   \n",
       "1            36471795      R        Guy Ritchie   24 January 2020     Action   \n",
       "2           165363234  PG-13       Rian Johnson  27 November 2019     Comedy   \n",
       "3               50269      R      James Watkins  18 November 2016     Action   \n",
       "4           335451311      R      Todd Phillips    4 October 2019      Crime   \n",
       "5           858373000  PG-13      Anthony Russo     26 April 2019     Action   \n",
       "6           188020017  PG-13  Christopher Nolan   7 November 2014  Adventure   \n",
       "7            62253077      R         Tim Miller   1 November 2019     Action   \n",
       "8           142502728      R  Quentin Tarantino      26 July 2019     Comedy   \n",
       "9           504481165     PG        Bill Condon     17 March 2017     Family   \n",
       "\n",
       "   runtime                cast1                  cast2             cast3  \\\n",
       "0      120       Felicity Jones           Armie Hammer    Justin Theroux   \n",
       "1      113  Matthew McConaughey         Charlie Hunnam  Michelle Dockery   \n",
       "2      130         Daniel Craig            Chris Evans      Ana de Armas   \n",
       "3       92           Idris Elba         Richard Madden  Charlotte Le Bon   \n",
       "4      122      Joaquin Phoenix         Robert De Niro       Zazie Beetz   \n",
       "5      181    Robert Downey Jr.            Chris Evans      Mark Ruffalo   \n",
       "6      169  Matthew McConaughey          Anne Hathaway  Jessica Chastain   \n",
       "7      128       Linda Hamilton  Arnold Schwarzenegger   Mackenzie Davis   \n",
       "8      161    Leonardo DiCaprio              Brad Pitt     Margot Robbie   \n",
       "9      129          Emma Watson            Dan Stevens        Luke Evans   \n",
       "\n",
       "      budget  star_rating  \n",
       "0   20000000          7.1  \n",
       "1   22000000          7.9  \n",
       "2   40000000          7.9  \n",
       "3   20000000          6.3  \n",
       "4   55000000          8.5  \n",
       "5  356000000          8.4  \n",
       "6  165000000          8.6  \n",
       "7  185000000          6.2  \n",
       "8   90000000          7.6  \n",
       "9  160000000          7.1  "
      ]
     },
     "execution_count": 211,
     "metadata": {},
     "output_type": "execute_result"
    }
   ],
   "source": [
    "movie_df = pd.DataFrame(movie_dict)\n",
    "movie_df.head(10)"
   ]
  },
  {
   "cell_type": "code",
   "execution_count": 212,
   "metadata": {},
   "outputs": [],
   "source": [
    "#don't need lists anymore removing it because it takes a lot of memory\n",
    "list_of_movie_data_lists = None\n",
    "column_names_in_df = None"
   ]
  },
  {
   "cell_type": "code",
   "execution_count": 213,
   "metadata": {},
   "outputs": [],
   "source": [
    "#movie_df[movie_df[\"rating\"]==\"\"]"
   ]
  },
  {
   "cell_type": "code",
   "execution_count": 214,
   "metadata": {},
   "outputs": [],
   "source": [
    "#movie_df[movie_df[\"director\"]==\"\"]"
   ]
  },
  {
   "cell_type": "code",
   "execution_count": null,
   "metadata": {},
   "outputs": [],
   "source": []
  },
  {
   "cell_type": "code",
   "execution_count": 215,
   "metadata": {},
   "outputs": [],
   "source": [
    "#movie_df[movie_df[\"releaseDate\"]==\"\"]"
   ]
  },
  {
   "cell_type": "code",
   "execution_count": 216,
   "metadata": {},
   "outputs": [],
   "source": [
    "#movie_df[movie_df[\"budget\"]==0]"
   ]
  },
  {
   "cell_type": "code",
   "execution_count": 217,
   "metadata": {},
   "outputs": [],
   "source": [
    "\n",
    "#cast_mask = (movie_df[\"cast1\"]==\"\") | (movie_df[\"cast2\"]==\"\") | (movie_df[\"cast3\"]==\"\")\n",
    "\n",
    "#movie_df[cast_mask]"
   ]
  },
  {
   "cell_type": "code",
   "execution_count": 218,
   "metadata": {},
   "outputs": [],
   "source": [
    "#movie_df[ movie_df[\"star_rating\"]==0.0 ]"
   ]
  },
  {
   "cell_type": "markdown",
   "metadata": {},
   "source": [
    "Removing rows that have an empty value for the following fields:\n",
    "\n",
    "* `rating`\n",
    "* `director`\n",
    "* `releaseDate`\n",
    "* `genre`\n",
    "* `runtime`\n",
    "* `cast[1-3]`\n",
    "* `budget`\n"
   ]
  },
  {
   "cell_type": "code",
   "execution_count": 219,
   "metadata": {},
   "outputs": [],
   "source": [
    "movie_df_processed = movie_df[movie_df[\"rating\"]!=\"\"]"
   ]
  },
  {
   "cell_type": "code",
   "execution_count": 220,
   "metadata": {},
   "outputs": [],
   "source": [
    "movie_df_processed = movie_df_processed[ movie_df_processed[\"director\"]!=\"\" ]"
   ]
  },
  {
   "cell_type": "code",
   "execution_count": 221,
   "metadata": {},
   "outputs": [],
   "source": [
    "movie_df_processed = movie_df_processed[ movie_df_processed[\"releaseDate\"]!=\"\" ]"
   ]
  },
  {
   "cell_type": "code",
   "execution_count": 222,
   "metadata": {},
   "outputs": [],
   "source": [
    "movie_df_processed = movie_df_processed[ movie_df_processed[\"genre\"]!=\"\" ]"
   ]
  },
  {
   "cell_type": "code",
   "execution_count": 223,
   "metadata": {},
   "outputs": [],
   "source": [
    "movie_df_processed = movie_df_processed[ movie_df_processed[\"runtime\"]!=0 ]"
   ]
  },
  {
   "cell_type": "code",
   "execution_count": 224,
   "metadata": {},
   "outputs": [
    {
     "name": "stderr",
     "output_type": "stream",
     "text": [
      "<ipython-input-224-2a5a2ac9e943>:2: UserWarning: Boolean Series key will be reindexed to match DataFrame index.\n",
      "  movie_df_processed = movie_df_processed[cast_mask]\n"
     ]
    }
   ],
   "source": [
    "cast_mask = (movie_df[\"cast1\"]!=\"\") | (movie_df[\"cast2\"]!=\"\") | (movie_df[\"cast3\"]!=\"\")\n",
    "movie_df_processed = movie_df_processed[cast_mask]"
   ]
  },
  {
   "cell_type": "code",
   "execution_count": 225,
   "metadata": {},
   "outputs": [],
   "source": [
    "movie_df_processed = movie_df_processed[ movie_df_processed[\"budget\"]!= 0 ]"
   ]
  },
  {
   "cell_type": "markdown",
   "metadata": {},
   "source": [
    "Shape of data frame. First number is the number of movies I will be processing."
   ]
  },
  {
   "cell_type": "code",
   "execution_count": 226,
   "metadata": {},
   "outputs": [
    {
     "data": {
      "text/plain": [
       "(2127, 13)"
      ]
     },
     "execution_count": 226,
     "metadata": {},
     "output_type": "execute_result"
    }
   ],
   "source": [
    "movie_df_processed.shape"
   ]
  },
  {
   "cell_type": "code",
   "execution_count": 227,
   "metadata": {},
   "outputs": [
    {
     "data": {
      "text/html": [
       "<div>\n",
       "<style scoped>\n",
       "    .dataframe tbody tr th:only-of-type {\n",
       "        vertical-align: middle;\n",
       "    }\n",
       "\n",
       "    .dataframe tbody tr th {\n",
       "        vertical-align: top;\n",
       "    }\n",
       "\n",
       "    .dataframe thead th {\n",
       "        text-align: right;\n",
       "    }\n",
       "</style>\n",
       "<table border=\"1\" class=\"dataframe\">\n",
       "  <thead>\n",
       "    <tr style=\"text-align: right;\">\n",
       "      <th></th>\n",
       "      <th>title</th>\n",
       "      <th>directlink_url</th>\n",
       "      <th>domesticTotalGross</th>\n",
       "      <th>rating</th>\n",
       "      <th>director</th>\n",
       "      <th>releaseDate</th>\n",
       "      <th>genre</th>\n",
       "      <th>runtime</th>\n",
       "      <th>cast1</th>\n",
       "      <th>cast2</th>\n",
       "      <th>cast3</th>\n",
       "      <th>budget</th>\n",
       "      <th>star_rating</th>\n",
       "    </tr>\n",
       "  </thead>\n",
       "  <tbody>\n",
       "    <tr>\n",
       "      <th>0</th>\n",
       "      <td>On the Basis of Sex</td>\n",
       "      <td>http://www.imdb.com/title/tt4669788/</td>\n",
       "      <td>24704837</td>\n",
       "      <td>PG-13</td>\n",
       "      <td>Mimi Leder</td>\n",
       "      <td>11 January 2019</td>\n",
       "      <td>Biography</td>\n",
       "      <td>120</td>\n",
       "      <td>Felicity Jones</td>\n",
       "      <td>Armie Hammer</td>\n",
       "      <td>Justin Theroux</td>\n",
       "      <td>20000000</td>\n",
       "      <td>7.1</td>\n",
       "    </tr>\n",
       "    <tr>\n",
       "      <th>1</th>\n",
       "      <td>The Gentlemen</td>\n",
       "      <td>http://www.imdb.com/title/tt8367814/</td>\n",
       "      <td>36471795</td>\n",
       "      <td>R</td>\n",
       "      <td>Guy Ritchie</td>\n",
       "      <td>24 January 2020</td>\n",
       "      <td>Action</td>\n",
       "      <td>113</td>\n",
       "      <td>Matthew McConaughey</td>\n",
       "      <td>Charlie Hunnam</td>\n",
       "      <td>Michelle Dockery</td>\n",
       "      <td>22000000</td>\n",
       "      <td>7.9</td>\n",
       "    </tr>\n",
       "    <tr>\n",
       "      <th>2</th>\n",
       "      <td>Knives Out</td>\n",
       "      <td>http://www.imdb.com/title/tt8946378/</td>\n",
       "      <td>165363234</td>\n",
       "      <td>PG-13</td>\n",
       "      <td>Rian Johnson</td>\n",
       "      <td>27 November 2019</td>\n",
       "      <td>Comedy</td>\n",
       "      <td>130</td>\n",
       "      <td>Daniel Craig</td>\n",
       "      <td>Chris Evans</td>\n",
       "      <td>Ana de Armas</td>\n",
       "      <td>40000000</td>\n",
       "      <td>7.9</td>\n",
       "    </tr>\n",
       "    <tr>\n",
       "      <th>3</th>\n",
       "      <td>Bastille Day</td>\n",
       "      <td>http://www.imdb.com/title/tt2368619/</td>\n",
       "      <td>50269</td>\n",
       "      <td>R</td>\n",
       "      <td>James Watkins</td>\n",
       "      <td>18 November 2016</td>\n",
       "      <td>Action</td>\n",
       "      <td>92</td>\n",
       "      <td>Idris Elba</td>\n",
       "      <td>Richard Madden</td>\n",
       "      <td>Charlotte Le Bon</td>\n",
       "      <td>20000000</td>\n",
       "      <td>6.3</td>\n",
       "    </tr>\n",
       "    <tr>\n",
       "      <th>4</th>\n",
       "      <td>Joker</td>\n",
       "      <td>http://www.imdb.com/title/tt7286456/</td>\n",
       "      <td>335451311</td>\n",
       "      <td>R</td>\n",
       "      <td>Todd Phillips</td>\n",
       "      <td>4 October 2019</td>\n",
       "      <td>Crime</td>\n",
       "      <td>122</td>\n",
       "      <td>Joaquin Phoenix</td>\n",
       "      <td>Robert De Niro</td>\n",
       "      <td>Zazie Beetz</td>\n",
       "      <td>55000000</td>\n",
       "      <td>8.5</td>\n",
       "    </tr>\n",
       "  </tbody>\n",
       "</table>\n",
       "</div>"
      ],
      "text/plain": [
       "                 title                        directlink_url  \\\n",
       "0  On the Basis of Sex  http://www.imdb.com/title/tt4669788/   \n",
       "1        The Gentlemen  http://www.imdb.com/title/tt8367814/   \n",
       "2           Knives Out  http://www.imdb.com/title/tt8946378/   \n",
       "3         Bastille Day  http://www.imdb.com/title/tt2368619/   \n",
       "4                Joker  http://www.imdb.com/title/tt7286456/   \n",
       "\n",
       "   domesticTotalGross rating       director       releaseDate      genre  \\\n",
       "0            24704837  PG-13     Mimi Leder   11 January 2019  Biography   \n",
       "1            36471795      R    Guy Ritchie   24 January 2020     Action   \n",
       "2           165363234  PG-13   Rian Johnson  27 November 2019     Comedy   \n",
       "3               50269      R  James Watkins  18 November 2016     Action   \n",
       "4           335451311      R  Todd Phillips    4 October 2019      Crime   \n",
       "\n",
       "   runtime                cast1           cast2             cast3    budget  \\\n",
       "0      120       Felicity Jones    Armie Hammer    Justin Theroux  20000000   \n",
       "1      113  Matthew McConaughey  Charlie Hunnam  Michelle Dockery  22000000   \n",
       "2      130         Daniel Craig     Chris Evans      Ana de Armas  40000000   \n",
       "3       92           Idris Elba  Richard Madden  Charlotte Le Bon  20000000   \n",
       "4      122      Joaquin Phoenix  Robert De Niro       Zazie Beetz  55000000   \n",
       "\n",
       "   star_rating  \n",
       "0          7.1  \n",
       "1          7.9  \n",
       "2          7.9  \n",
       "3          6.3  \n",
       "4          8.5  "
      ]
     },
     "execution_count": 227,
     "metadata": {},
     "output_type": "execute_result"
    }
   ],
   "source": [
    "movie_df_processed.head()"
   ]
  },
  {
   "cell_type": "code",
   "execution_count": 228,
   "metadata": {},
   "outputs": [
    {
     "name": "stdout",
     "output_type": "stream",
     "text": [
      "<class 'pandas.core.frame.DataFrame'>\n",
      "Int64Index: 2127 entries, 0 to 3994\n",
      "Data columns (total 13 columns):\n",
      " #   Column              Non-Null Count  Dtype  \n",
      "---  ------              --------------  -----  \n",
      " 0   title               2127 non-null   object \n",
      " 1   directlink_url      2127 non-null   object \n",
      " 2   domesticTotalGross  2127 non-null   int64  \n",
      " 3   rating              2127 non-null   object \n",
      " 4   director            2127 non-null   object \n",
      " 5   releaseDate         2127 non-null   object \n",
      " 6   genre               2127 non-null   object \n",
      " 7   runtime             2127 non-null   int64  \n",
      " 8   cast1               2127 non-null   object \n",
      " 9   cast2               2127 non-null   object \n",
      " 10  cast3               2127 non-null   object \n",
      " 11  budget              2127 non-null   int64  \n",
      " 12  star_rating         2127 non-null   float64\n",
      "dtypes: float64(1), int64(3), object(9)\n",
      "memory usage: 232.6+ KB\n"
     ]
    }
   ],
   "source": [
    "movie_df_processed.info()"
   ]
  },
  {
   "cell_type": "markdown",
   "metadata": {},
   "source": [
    "Looks like there are a few rating parse issues. Will make them PG-13"
   ]
  },
  {
   "cell_type": "code",
   "execution_count": 229,
   "metadata": {},
   "outputs": [],
   "source": [
    "movie_df_processed[\"rating\"] = movie_df_processed[\"rating\"].replace({\"PG-\":\"PG-13\"})"
   ]
  },
  {
   "cell_type": "markdown",
   "metadata": {},
   "source": [
    "Just in case there are duplicates, dropping them here"
   ]
  },
  {
   "cell_type": "code",
   "execution_count": 230,
   "metadata": {},
   "outputs": [],
   "source": [
    "movie_df_processed.drop_duplicates(inplace=True)"
   ]
  },
  {
   "cell_type": "code",
   "execution_count": 231,
   "metadata": {},
   "outputs": [
    {
     "data": {
      "text/plain": [
       "(2127, 13)"
      ]
     },
     "execution_count": 231,
     "metadata": {},
     "output_type": "execute_result"
    }
   ],
   "source": [
    "movie_df_processed.shape"
   ]
  },
  {
   "cell_type": "markdown",
   "metadata": {},
   "source": [
    "Doesn't appear to be any."
   ]
  },
  {
   "cell_type": "code",
   "execution_count": 232,
   "metadata": {},
   "outputs": [],
   "source": [
    "#len(movie_df_processed[\"director\"].value_counts())"
   ]
  },
  {
   "cell_type": "code",
   "execution_count": 233,
   "metadata": {},
   "outputs": [],
   "source": [
    "#len(movie_df_processed[\"genre\"].value_counts())"
   ]
  },
  {
   "cell_type": "code",
   "execution_count": 234,
   "metadata": {},
   "outputs": [],
   "source": [
    "#len(movie_df_processed[\"cast1\"].value_counts())"
   ]
  },
  {
   "cell_type": "code",
   "execution_count": 235,
   "metadata": {},
   "outputs": [],
   "source": [
    "#len(movie_df_processed[\"cast2\"].value_counts())"
   ]
  },
  {
   "cell_type": "code",
   "execution_count": 236,
   "metadata": {},
   "outputs": [],
   "source": [
    "#len(movie_df_processed[\"cast3\"].value_counts())"
   ]
  },
  {
   "cell_type": "markdown",
   "metadata": {},
   "source": [
    "Convert data into a format that can be used in a linear model"
   ]
  },
  {
   "cell_type": "code",
   "execution_count": 237,
   "metadata": {},
   "outputs": [],
   "source": [
    "movie_df_processed[\"releaseDate\"] = pd.to_datetime(movie_df_processed[\"releaseDate\"])"
   ]
  },
  {
   "cell_type": "code",
   "execution_count": 238,
   "metadata": {},
   "outputs": [],
   "source": [
    "#movie_df_processed.head()"
   ]
  },
  {
   "cell_type": "code",
   "execution_count": 239,
   "metadata": {},
   "outputs": [],
   "source": [
    "#type(movie_df_processed.iloc[0,5])"
   ]
  },
  {
   "cell_type": "code",
   "execution_count": 240,
   "metadata": {},
   "outputs": [],
   "source": [
    "movie_df_processed[\"releaseMonth\"] = movie_df_processed[\"releaseDate\"].dt.month_name()\n",
    "movie_df_processed[\"releaseYear\"] = movie_df_processed[\"releaseDate\"].dt.year\n",
    "\n",
    "#save for a different processing for a second model\n",
    "movie_df_processed2 = movie_df_processed.copy()"
   ]
  },
  {
   "cell_type": "code",
   "execution_count": 241,
   "metadata": {},
   "outputs": [
    {
     "data": {
      "text/html": [
       "<div>\n",
       "<style scoped>\n",
       "    .dataframe tbody tr th:only-of-type {\n",
       "        vertical-align: middle;\n",
       "    }\n",
       "\n",
       "    .dataframe tbody tr th {\n",
       "        vertical-align: top;\n",
       "    }\n",
       "\n",
       "    .dataframe thead th {\n",
       "        text-align: right;\n",
       "    }\n",
       "</style>\n",
       "<table border=\"1\" class=\"dataframe\">\n",
       "  <thead>\n",
       "    <tr style=\"text-align: right;\">\n",
       "      <th></th>\n",
       "      <th>title</th>\n",
       "      <th>directlink_url</th>\n",
       "      <th>domesticTotalGross</th>\n",
       "      <th>rating</th>\n",
       "      <th>director</th>\n",
       "      <th>releaseDate</th>\n",
       "      <th>genre</th>\n",
       "      <th>runtime</th>\n",
       "      <th>cast1</th>\n",
       "      <th>cast2</th>\n",
       "      <th>cast3</th>\n",
       "      <th>budget</th>\n",
       "      <th>star_rating</th>\n",
       "      <th>releaseMonth</th>\n",
       "      <th>releaseYear</th>\n",
       "    </tr>\n",
       "  </thead>\n",
       "  <tbody>\n",
       "    <tr>\n",
       "      <th>0</th>\n",
       "      <td>On the Basis of Sex</td>\n",
       "      <td>http://www.imdb.com/title/tt4669788/</td>\n",
       "      <td>24704837</td>\n",
       "      <td>PG-13</td>\n",
       "      <td>Mimi Leder</td>\n",
       "      <td>2019-01-11</td>\n",
       "      <td>Biography</td>\n",
       "      <td>120</td>\n",
       "      <td>Felicity Jones</td>\n",
       "      <td>Armie Hammer</td>\n",
       "      <td>Justin Theroux</td>\n",
       "      <td>20000000</td>\n",
       "      <td>7.1</td>\n",
       "      <td>January</td>\n",
       "      <td>2019</td>\n",
       "    </tr>\n",
       "    <tr>\n",
       "      <th>1</th>\n",
       "      <td>The Gentlemen</td>\n",
       "      <td>http://www.imdb.com/title/tt8367814/</td>\n",
       "      <td>36471795</td>\n",
       "      <td>R</td>\n",
       "      <td>Guy Ritchie</td>\n",
       "      <td>2020-01-24</td>\n",
       "      <td>Action</td>\n",
       "      <td>113</td>\n",
       "      <td>Matthew McConaughey</td>\n",
       "      <td>Charlie Hunnam</td>\n",
       "      <td>Michelle Dockery</td>\n",
       "      <td>22000000</td>\n",
       "      <td>7.9</td>\n",
       "      <td>January</td>\n",
       "      <td>2020</td>\n",
       "    </tr>\n",
       "    <tr>\n",
       "      <th>2</th>\n",
       "      <td>Knives Out</td>\n",
       "      <td>http://www.imdb.com/title/tt8946378/</td>\n",
       "      <td>165363234</td>\n",
       "      <td>PG-13</td>\n",
       "      <td>Rian Johnson</td>\n",
       "      <td>2019-11-27</td>\n",
       "      <td>Comedy</td>\n",
       "      <td>130</td>\n",
       "      <td>Daniel Craig</td>\n",
       "      <td>Chris Evans</td>\n",
       "      <td>Ana de Armas</td>\n",
       "      <td>40000000</td>\n",
       "      <td>7.9</td>\n",
       "      <td>November</td>\n",
       "      <td>2019</td>\n",
       "    </tr>\n",
       "    <tr>\n",
       "      <th>3</th>\n",
       "      <td>Bastille Day</td>\n",
       "      <td>http://www.imdb.com/title/tt2368619/</td>\n",
       "      <td>50269</td>\n",
       "      <td>R</td>\n",
       "      <td>James Watkins</td>\n",
       "      <td>2016-11-18</td>\n",
       "      <td>Action</td>\n",
       "      <td>92</td>\n",
       "      <td>Idris Elba</td>\n",
       "      <td>Richard Madden</td>\n",
       "      <td>Charlotte Le Bon</td>\n",
       "      <td>20000000</td>\n",
       "      <td>6.3</td>\n",
       "      <td>November</td>\n",
       "      <td>2016</td>\n",
       "    </tr>\n",
       "    <tr>\n",
       "      <th>4</th>\n",
       "      <td>Joker</td>\n",
       "      <td>http://www.imdb.com/title/tt7286456/</td>\n",
       "      <td>335451311</td>\n",
       "      <td>R</td>\n",
       "      <td>Todd Phillips</td>\n",
       "      <td>2019-10-04</td>\n",
       "      <td>Crime</td>\n",
       "      <td>122</td>\n",
       "      <td>Joaquin Phoenix</td>\n",
       "      <td>Robert De Niro</td>\n",
       "      <td>Zazie Beetz</td>\n",
       "      <td>55000000</td>\n",
       "      <td>8.5</td>\n",
       "      <td>October</td>\n",
       "      <td>2019</td>\n",
       "    </tr>\n",
       "  </tbody>\n",
       "</table>\n",
       "</div>"
      ],
      "text/plain": [
       "                 title                        directlink_url  \\\n",
       "0  On the Basis of Sex  http://www.imdb.com/title/tt4669788/   \n",
       "1        The Gentlemen  http://www.imdb.com/title/tt8367814/   \n",
       "2           Knives Out  http://www.imdb.com/title/tt8946378/   \n",
       "3         Bastille Day  http://www.imdb.com/title/tt2368619/   \n",
       "4                Joker  http://www.imdb.com/title/tt7286456/   \n",
       "\n",
       "   domesticTotalGross rating       director releaseDate      genre  runtime  \\\n",
       "0            24704837  PG-13     Mimi Leder  2019-01-11  Biography      120   \n",
       "1            36471795      R    Guy Ritchie  2020-01-24     Action      113   \n",
       "2           165363234  PG-13   Rian Johnson  2019-11-27     Comedy      130   \n",
       "3               50269      R  James Watkins  2016-11-18     Action       92   \n",
       "4           335451311      R  Todd Phillips  2019-10-04      Crime      122   \n",
       "\n",
       "                 cast1           cast2             cast3    budget  \\\n",
       "0       Felicity Jones    Armie Hammer    Justin Theroux  20000000   \n",
       "1  Matthew McConaughey  Charlie Hunnam  Michelle Dockery  22000000   \n",
       "2         Daniel Craig     Chris Evans      Ana de Armas  40000000   \n",
       "3           Idris Elba  Richard Madden  Charlotte Le Bon  20000000   \n",
       "4      Joaquin Phoenix  Robert De Niro       Zazie Beetz  55000000   \n",
       "\n",
       "   star_rating releaseMonth  releaseYear  \n",
       "0          7.1      January         2019  \n",
       "1          7.9      January         2020  \n",
       "2          7.9     November         2019  \n",
       "3          6.3     November         2016  \n",
       "4          8.5      October         2019  "
      ]
     },
     "execution_count": 241,
     "metadata": {},
     "output_type": "execute_result"
    }
   ],
   "source": [
    "movie_df_processed.head()"
   ]
  },
  {
   "cell_type": "code",
   "execution_count": 242,
   "metadata": {},
   "outputs": [],
   "source": [
    "#movie_df_processed.sort_values([\"releaseDate\"],inplace=True)\n",
    "#plt.figure(figsize=(10,10))\n",
    "#plt.scatter(movie_df_processed[\"releaseDate\"],movie_df_processed[\"star_rating\"],alpha=0.2)"
   ]
  },
  {
   "cell_type": "code",
   "execution_count": 243,
   "metadata": {},
   "outputs": [],
   "source": [
    "#avg star rating per release Month\n",
    "#movie_avg_star_per_relmonth_df = movie_df_processed.groupby([\"releaseMonth\"])[\"star_rating\"].mean().reset_index()\n",
    "#movie_avg_star_per_relmonth_df.sort_values(\"star_rating\",ascending=False)"
   ]
  },
  {
   "cell_type": "markdown",
   "metadata": {},
   "source": [
    "NOTE: Need to do a weighted rating for crew/cast. Mult avg rating by number of times name appears in DF"
   ]
  },
  {
   "cell_type": "code",
   "execution_count": 244,
   "metadata": {},
   "outputs": [],
   "source": [
    "#movie_avg_star_per_director_df = movie_df_processed.groupby([\"director\"])[\"star_rating\"].mean().reset_index()\n",
    "#movie_avg_star_per_director_df.sort_values(\"star_rating\",ascending=False).head(50)\n"
   ]
  },
  {
   "cell_type": "markdown",
   "metadata": {},
   "source": [
    "\"Bob Persichetti\" is a one-hit wonder. So can't just go by average alone. Maybe `avg * number_of_movies * oscar_factor`"
   ]
  },
  {
   "cell_type": "code",
   "execution_count": 245,
   "metadata": {},
   "outputs": [],
   "source": [
    "#movie_df_processed[ movie_df_processed[\"director\"] == \"Bob Persichetti\"  ][\"title\"].count()"
   ]
  },
  {
   "cell_type": "code",
   "execution_count": 246,
   "metadata": {},
   "outputs": [
    {
     "data": {
      "text/plain": [
       "Index(['title', 'directlink_url', 'domesticTotalGross', 'rating', 'director',\n",
       "       'releaseDate', 'genre', 'runtime', 'cast1', 'cast2', 'cast3', 'budget',\n",
       "       'star_rating', 'releaseMonth', 'releaseYear'],\n",
       "      dtype='object')"
      ]
     },
     "execution_count": 246,
     "metadata": {},
     "output_type": "execute_result"
    }
   ],
   "source": [
    "movie_df_processed.columns"
   ]
  },
  {
   "cell_type": "markdown",
   "metadata": {},
   "source": [
    "I am attempting to create a model that will predict star rating on opening day of the movie. So I cannot use features that become available after opening day. So I will drop these features:\n",
    "* `domesticTotalGross`"
   ]
  },
  {
   "cell_type": "code",
   "execution_count": 247,
   "metadata": {},
   "outputs": [],
   "source": [
    "movie_df_processed.drop([\"domesticTotalGross\"],inplace=True,axis=1)"
   ]
  },
  {
   "cell_type": "code",
   "execution_count": 248,
   "metadata": {},
   "outputs": [
    {
     "data": {
      "text/plain": [
       "Index(['title', 'directlink_url', 'rating', 'director', 'releaseDate', 'genre',\n",
       "       'runtime', 'cast1', 'cast2', 'cast3', 'budget', 'star_rating',\n",
       "       'releaseMonth', 'releaseYear'],\n",
       "      dtype='object')"
      ]
     },
     "execution_count": 248,
     "metadata": {},
     "output_type": "execute_result"
    }
   ],
   "source": [
    "movie_df_processed.columns"
   ]
  },
  {
   "cell_type": "markdown",
   "metadata": {},
   "source": [
    "# Exploratory Data Analysis"
   ]
  },
  {
   "cell_type": "markdown",
   "metadata": {},
   "source": [
    "Correlation Matrix"
   ]
  },
  {
   "cell_type": "code",
   "execution_count": 249,
   "metadata": {},
   "outputs": [
    {
     "data": {
      "text/html": [
       "<div>\n",
       "<style scoped>\n",
       "    .dataframe tbody tr th:only-of-type {\n",
       "        vertical-align: middle;\n",
       "    }\n",
       "\n",
       "    .dataframe tbody tr th {\n",
       "        vertical-align: top;\n",
       "    }\n",
       "\n",
       "    .dataframe thead th {\n",
       "        text-align: right;\n",
       "    }\n",
       "</style>\n",
       "<table border=\"1\" class=\"dataframe\">\n",
       "  <thead>\n",
       "    <tr style=\"text-align: right;\">\n",
       "      <th></th>\n",
       "      <th>runtime</th>\n",
       "      <th>budget</th>\n",
       "      <th>star_rating</th>\n",
       "      <th>releaseYear</th>\n",
       "    </tr>\n",
       "  </thead>\n",
       "  <tbody>\n",
       "    <tr>\n",
       "      <th>runtime</th>\n",
       "      <td>1.000000</td>\n",
       "      <td>0.455620</td>\n",
       "      <td>0.519328</td>\n",
       "      <td>0.112327</td>\n",
       "    </tr>\n",
       "    <tr>\n",
       "      <th>budget</th>\n",
       "      <td>0.455620</td>\n",
       "      <td>1.000000</td>\n",
       "      <td>0.308271</td>\n",
       "      <td>0.018657</td>\n",
       "    </tr>\n",
       "    <tr>\n",
       "      <th>star_rating</th>\n",
       "      <td>0.519328</td>\n",
       "      <td>0.308271</td>\n",
       "      <td>1.000000</td>\n",
       "      <td>0.072808</td>\n",
       "    </tr>\n",
       "    <tr>\n",
       "      <th>releaseYear</th>\n",
       "      <td>0.112327</td>\n",
       "      <td>0.018657</td>\n",
       "      <td>0.072808</td>\n",
       "      <td>1.000000</td>\n",
       "    </tr>\n",
       "  </tbody>\n",
       "</table>\n",
       "</div>"
      ],
      "text/plain": [
       "              runtime    budget  star_rating  releaseYear\n",
       "runtime      1.000000  0.455620     0.519328     0.112327\n",
       "budget       0.455620  1.000000     0.308271     0.018657\n",
       "star_rating  0.519328  0.308271     1.000000     0.072808\n",
       "releaseYear  0.112327  0.018657     0.072808     1.000000"
      ]
     },
     "execution_count": 249,
     "metadata": {},
     "output_type": "execute_result"
    }
   ],
   "source": [
    "movie_df_processed.corr()"
   ]
  },
  {
   "cell_type": "code",
   "execution_count": 250,
   "metadata": {},
   "outputs": [
    {
     "data": {
      "text/plain": [
       "<seaborn.axisgrid.PairGrid at 0x7ff078494130>"
      ]
     },
     "execution_count": 250,
     "metadata": {},
     "output_type": "execute_result"
    },
    {
     "data": {
      "image/png": "[encoded data removed]",
      "text/plain": [
       "<Figure size 720x720 with 20 Axes>"
      ]
     },
     "metadata": {
      "needs_background": "light"
     },
     "output_type": "display_data"
    }
   ],
   "source": [
    "sns.pairplot(movie_df_processed)"
   ]
  },
  {
   "cell_type": "markdown",
   "metadata": {},
   "source": [
    "Action Notes:\n",
    "* Create a new feature budget^2 - \\$50M\n",
    "\n"
   ]
  },
  {
   "cell_type": "markdown",
   "metadata": {},
   "source": [
    "Plotting Rating versus budget"
   ]
  },
  {
   "cell_type": "code",
   "execution_count": 251,
   "metadata": {},
   "outputs": [
    {
     "name": "stderr",
     "output_type": "stream",
     "text": [
      "<ipython-input-251-d6e8cc662c66>:2: SettingWithCopyWarning: \n",
      "A value is trying to be set on a copy of a slice from a DataFrame\n",
      "\n",
      "See the caveats in the documentation: https://pandas.pydata.org/pandas-docs/stable/user_guide/indexing.html#returning-a-view-versus-a-copy\n",
      "  rating_budget_series.sort_values([\"budget\"],inplace=True)\n"
     ]
    }
   ],
   "source": [
    "\n",
    "rating_budget_series = movie_df_processed[[\"star_rating\",\"budget\"]]\n",
    "rating_budget_series.sort_values([\"budget\"],inplace=True)\n",
    "#rating_budget_series"
   ]
  },
  {
   "cell_type": "code",
   "execution_count": 252,
   "metadata": {},
   "outputs": [
    {
     "data": {
      "image/png": "[encoded data removed]",
      "text/plain": [
       "<Figure size 1080x1080 with 1 Axes>"
      ]
     },
     "metadata": {
      "needs_background": "light"
     },
     "output_type": "display_data"
    }
   ],
   "source": [
    "plt.figure(figsize=(15,15))\n",
    "plt.scatter(rating_budget_series[\"budget\"],rating_budget_series[\"star_rating\"],alpha=0.2,color=\"green\")\n",
    "plt.xlabel(\"budget in dollars\")\n",
    "plt.ylabel(\"IMDB Star Rating (out of 10)\");"
   ]
  },
  {
   "cell_type": "markdown",
   "metadata": {},
   "source": [
    "Notes about graph\n",
    "* unless budget is over \\$50M it does not seem to inform what the rating will be\n",
    "* After budget gets to \\$50M it looks like star rating is a quadratic function of budget"
   ]
  },
  {
   "cell_type": "code",
   "execution_count": 253,
   "metadata": {},
   "outputs": [
    {
     "name": "stderr",
     "output_type": "stream",
     "text": [
      "<ipython-input-253-d7ab0ed6e3bf>:2: SettingWithCopyWarning: \n",
      "A value is trying to be set on a copy of a slice from a DataFrame\n",
      "\n",
      "See the caveats in the documentation: https://pandas.pydata.org/pandas-docs/stable/user_guide/indexing.html#returning-a-view-versus-a-copy\n",
      "  rating_relyear_series.sort_values([\"releaseYear\"],inplace=True)\n"
     ]
    },
    {
     "data": {
      "image/png": "[encoded data removed]",
      "text/plain": [
       "<Figure size 1080x1080 with 1 Axes>"
      ]
     },
     "metadata": {
      "needs_background": "light"
     },
     "output_type": "display_data"
    }
   ],
   "source": [
    "rating_relyear_series = movie_df_processed[[\"star_rating\",\"releaseYear\"]]\n",
    "rating_relyear_series.sort_values([\"releaseYear\"],inplace=True)\n",
    "plt.figure(figsize=(15,15))\n",
    "plt.scatter(rating_relyear_series[\"releaseYear\"],rating_relyear_series[\"star_rating\"],alpha=0.2,color=\"green\")\n",
    "plt.xlabel(\"Year Movie Was First Released\")\n",
    "plt.ylabel(\"IMDB Star Rating (out of 10)\");\n",
    "#rating_budget_series"
   ]
  },
  {
   "cell_type": "markdown",
   "metadata": {},
   "source": [
    "Notes on graph\n",
    "* release year doesn't affect IMDB score. Seems with respect to year, IMDB score is random\n",
    "* In 2016 is seems IMDB ratings had a high lower bound than other years. Is there a way to include this in the model? Is it significant enough. Correlation says "
   ]
  },
  {
   "cell_type": "code",
   "execution_count": 254,
   "metadata": {},
   "outputs": [],
   "source": [
    "#sns.pairplot(movie_df_processed)"
   ]
  },
  {
   "cell_type": "markdown",
   "metadata": {},
   "source": [
    "## Creating One-Hot Encoded Variables"
   ]
  },
  {
   "cell_type": "markdown",
   "metadata": {},
   "source": [
    "one hot encode date and genre"
   ]
  },
  {
   "cell_type": "code",
   "execution_count": 255,
   "metadata": {},
   "outputs": [],
   "source": [
    "one_hot_encoded_release_month_series = pd.get_dummies(movie_df_processed[\"releaseMonth\"],drop_first=True)\n"
   ]
  },
  {
   "cell_type": "code",
   "execution_count": 256,
   "metadata": {},
   "outputs": [],
   "source": [
    "movie_df_processed = pd.concat([movie_df_processed, one_hot_encoded_release_month_series], axis=1)"
   ]
  },
  {
   "cell_type": "code",
   "execution_count": 257,
   "metadata": {},
   "outputs": [],
   "source": [
    "one_hot_encoded_genre_series = pd.get_dummies(movie_df_processed[\"genre\"],drop_first=True)"
   ]
  },
  {
   "cell_type": "code",
   "execution_count": 258,
   "metadata": {},
   "outputs": [],
   "source": [
    "movie_df_processed = pd.concat([movie_df_processed, one_hot_encoded_genre_series], axis=1)"
   ]
  },
  {
   "cell_type": "code",
   "execution_count": 259,
   "metadata": {},
   "outputs": [],
   "source": [
    "one_hot_encoded_mpaa_rating = pd.get_dummies(movie_df_processed[\"rating\"],drop_first=True)"
   ]
  },
  {
   "cell_type": "code",
   "execution_count": 260,
   "metadata": {},
   "outputs": [],
   "source": [
    "movie_df_processed = pd.concat([movie_df_processed, one_hot_encoded_mpaa_rating], axis=1)"
   ]
  },
  {
   "cell_type": "code",
   "execution_count": 261,
   "metadata": {},
   "outputs": [
    {
     "data": {
      "text/plain": [
       "Index(['title', 'directlink_url', 'rating', 'director', 'releaseDate', 'genre',\n",
       "       'runtime', 'cast1', 'cast2', 'cast3', 'budget', 'star_rating',\n",
       "       'releaseMonth', 'releaseYear', 'August', 'December', 'February',\n",
       "       'January', 'July', 'June', 'March', 'May', 'November', 'October',\n",
       "       'September', 'Adventure', 'Animation', 'Biography', 'Comedy', 'Crime',\n",
       "       'Drama', 'Family', 'Fantasy', 'Horror', 'Music', 'Musical', 'Mystery',\n",
       "       'Romance', 'Sci-Fi', 'Sport', 'Thriller', 'Western', 'PG', 'PG-13',\n",
       "       'R'],\n",
       "      dtype='object')"
      ]
     },
     "execution_count": 261,
     "metadata": {},
     "output_type": "execute_result"
    }
   ],
   "source": [
    "movie_df_processed.columns"
   ]
  },
  {
   "cell_type": "markdown",
   "metadata": {},
   "source": [
    "# Baseline Model"
   ]
  },
  {
   "cell_type": "markdown",
   "metadata": {},
   "source": [
    "I kept around some fields to help me understand the data. I will now create the dataframe that will be used to fit the model"
   ]
  },
  {
   "cell_type": "markdown",
   "metadata": {},
   "source": [
    "```python\n",
    "\n",
    "movie_for_modeling_df = movie_df_processed[['star_rating','runtime','budget', 'August', 'December', 'February','January', 'July', 'June', 'March',\n",
    "                                            'May', 'November', 'October','September', 'Adventure', 'Animation', 'Biography', 'Comedy', 'Crime',\n",
    "                                            'Drama', 'Family', 'Fantasy', 'Horror', 'Music', 'Musical', 'Mystery','Romance', 'Sci-Fi', 'Sport', 'Thriller', 'Western', 'PG', 'PG-13', 'R']]\n",
    "\n",
    "```"
   ]
  },
  {
   "cell_type": "code",
   "execution_count": 262,
   "metadata": {},
   "outputs": [],
   "source": [
    "movie_for_modeling_df = movie_df_processed[['star_rating','runtime','budget','August', 'December', 'February',\n",
    "                                           'January', 'July', 'June', 'March', 'May', 'November', 'October','September',\n",
    "                                           'Adventure', 'Animation', 'Biography', 'Comedy', 'Crime','Drama', 'Family',\n",
    "                                           'Fantasy', 'Horror', 'Music', 'Musical', 'Mystery','Romance', 'Sci-Fi', 'Sport', 'Thriller', 'Western', 'PG', 'PG-13','R']]"
   ]
  },
  {
   "cell_type": "code",
   "execution_count": 263,
   "metadata": {},
   "outputs": [
    {
     "data": {
      "text/html": [
       "<div>\n",
       "<style scoped>\n",
       "    .dataframe tbody tr th:only-of-type {\n",
       "        vertical-align: middle;\n",
       "    }\n",
       "\n",
       "    .dataframe tbody tr th {\n",
       "        vertical-align: top;\n",
       "    }\n",
       "\n",
       "    .dataframe thead th {\n",
       "        text-align: right;\n",
       "    }\n",
       "</style>\n",
       "<table border=\"1\" class=\"dataframe\">\n",
       "  <thead>\n",
       "    <tr style=\"text-align: right;\">\n",
       "      <th></th>\n",
       "      <th>star_rating</th>\n",
       "      <th>runtime</th>\n",
       "      <th>budget</th>\n",
       "      <th>August</th>\n",
       "      <th>December</th>\n",
       "      <th>February</th>\n",
       "      <th>January</th>\n",
       "      <th>July</th>\n",
       "      <th>June</th>\n",
       "      <th>March</th>\n",
       "      <th>...</th>\n",
       "      <th>Musical</th>\n",
       "      <th>Mystery</th>\n",
       "      <th>Romance</th>\n",
       "      <th>Sci-Fi</th>\n",
       "      <th>Sport</th>\n",
       "      <th>Thriller</th>\n",
       "      <th>Western</th>\n",
       "      <th>PG</th>\n",
       "      <th>PG-13</th>\n",
       "      <th>R</th>\n",
       "    </tr>\n",
       "  </thead>\n",
       "  <tbody>\n",
       "    <tr>\n",
       "      <th>0</th>\n",
       "      <td>7.1</td>\n",
       "      <td>120</td>\n",
       "      <td>20000000</td>\n",
       "      <td>0</td>\n",
       "      <td>0</td>\n",
       "      <td>0</td>\n",
       "      <td>1</td>\n",
       "      <td>0</td>\n",
       "      <td>0</td>\n",
       "      <td>0</td>\n",
       "      <td>...</td>\n",
       "      <td>0</td>\n",
       "      <td>0</td>\n",
       "      <td>0</td>\n",
       "      <td>0</td>\n",
       "      <td>0</td>\n",
       "      <td>0</td>\n",
       "      <td>0</td>\n",
       "      <td>0</td>\n",
       "      <td>1</td>\n",
       "      <td>0</td>\n",
       "    </tr>\n",
       "    <tr>\n",
       "      <th>1</th>\n",
       "      <td>7.9</td>\n",
       "      <td>113</td>\n",
       "      <td>22000000</td>\n",
       "      <td>0</td>\n",
       "      <td>0</td>\n",
       "      <td>0</td>\n",
       "      <td>1</td>\n",
       "      <td>0</td>\n",
       "      <td>0</td>\n",
       "      <td>0</td>\n",
       "      <td>...</td>\n",
       "      <td>0</td>\n",
       "      <td>0</td>\n",
       "      <td>0</td>\n",
       "      <td>0</td>\n",
       "      <td>0</td>\n",
       "      <td>0</td>\n",
       "      <td>0</td>\n",
       "      <td>0</td>\n",
       "      <td>0</td>\n",
       "      <td>1</td>\n",
       "    </tr>\n",
       "    <tr>\n",
       "      <th>2</th>\n",
       "      <td>7.9</td>\n",
       "      <td>130</td>\n",
       "      <td>40000000</td>\n",
       "      <td>0</td>\n",
       "      <td>0</td>\n",
       "      <td>0</td>\n",
       "      <td>0</td>\n",
       "      <td>0</td>\n",
       "      <td>0</td>\n",
       "      <td>0</td>\n",
       "      <td>...</td>\n",
       "      <td>0</td>\n",
       "      <td>0</td>\n",
       "      <td>0</td>\n",
       "      <td>0</td>\n",
       "      <td>0</td>\n",
       "      <td>0</td>\n",
       "      <td>0</td>\n",
       "      <td>0</td>\n",
       "      <td>1</td>\n",
       "      <td>0</td>\n",
       "    </tr>\n",
       "    <tr>\n",
       "      <th>3</th>\n",
       "      <td>6.3</td>\n",
       "      <td>92</td>\n",
       "      <td>20000000</td>\n",
       "      <td>0</td>\n",
       "      <td>0</td>\n",
       "      <td>0</td>\n",
       "      <td>0</td>\n",
       "      <td>0</td>\n",
       "      <td>0</td>\n",
       "      <td>0</td>\n",
       "      <td>...</td>\n",
       "      <td>0</td>\n",
       "      <td>0</td>\n",
       "      <td>0</td>\n",
       "      <td>0</td>\n",
       "      <td>0</td>\n",
       "      <td>0</td>\n",
       "      <td>0</td>\n",
       "      <td>0</td>\n",
       "      <td>0</td>\n",
       "      <td>1</td>\n",
       "    </tr>\n",
       "    <tr>\n",
       "      <th>4</th>\n",
       "      <td>8.5</td>\n",
       "      <td>122</td>\n",
       "      <td>55000000</td>\n",
       "      <td>0</td>\n",
       "      <td>0</td>\n",
       "      <td>0</td>\n",
       "      <td>0</td>\n",
       "      <td>0</td>\n",
       "      <td>0</td>\n",
       "      <td>0</td>\n",
       "      <td>...</td>\n",
       "      <td>0</td>\n",
       "      <td>0</td>\n",
       "      <td>0</td>\n",
       "      <td>0</td>\n",
       "      <td>0</td>\n",
       "      <td>0</td>\n",
       "      <td>0</td>\n",
       "      <td>0</td>\n",
       "      <td>0</td>\n",
       "      <td>1</td>\n",
       "    </tr>\n",
       "  </tbody>\n",
       "</table>\n",
       "<p>5 rows × 34 columns</p>\n",
       "</div>"
      ],
      "text/plain": [
       "   star_rating  runtime    budget  August  December  February  January  July  \\\n",
       "0          7.1      120  20000000       0         0         0        1     0   \n",
       "1          7.9      113  22000000       0         0         0        1     0   \n",
       "2          7.9      130  40000000       0         0         0        0     0   \n",
       "3          6.3       92  20000000       0         0         0        0     0   \n",
       "4          8.5      122  55000000       0         0         0        0     0   \n",
       "\n",
       "   June  March  ...  Musical  Mystery  Romance  Sci-Fi  Sport  Thriller  \\\n",
       "0     0      0  ...        0        0        0       0      0         0   \n",
       "1     0      0  ...        0        0        0       0      0         0   \n",
       "2     0      0  ...        0        0        0       0      0         0   \n",
       "3     0      0  ...        0        0        0       0      0         0   \n",
       "4     0      0  ...        0        0        0       0      0         0   \n",
       "\n",
       "   Western  PG  PG-13  R  \n",
       "0        0   0      1  0  \n",
       "1        0   0      0  1  \n",
       "2        0   0      1  0  \n",
       "3        0   0      0  1  \n",
       "4        0   0      0  1  \n",
       "\n",
       "[5 rows x 34 columns]"
      ]
     },
     "execution_count": 263,
     "metadata": {},
     "output_type": "execute_result"
    }
   ],
   "source": [
    "movie_for_modeling_df.head()"
   ]
  },
  {
   "cell_type": "code",
   "execution_count": 264,
   "metadata": {},
   "outputs": [],
   "source": [
    "Y = movie_for_modeling_df[\"star_rating\"]\n",
    "X = movie_for_modeling_df.drop(\"star_rating\",axis=1)\n"
   ]
  },
  {
   "cell_type": "code",
   "execution_count": 265,
   "metadata": {},
   "outputs": [],
   "source": [
    "#Creating a 80 train / 10 validation / 10 test split\n",
    "X_train_val,X_test, Y_train_val,Y_test = train_test_split(X, Y, test_size=0.10, random_state=RANDOM_STATE)\n",
    "X_train, X_val, Y_train, Y_val = train_test_split(X_train_val, Y_train_val, test_size=0.111, random_state=RANDOM_STATE)"
   ]
  },
  {
   "cell_type": "code",
   "execution_count": 266,
   "metadata": {},
   "outputs": [
    {
     "name": "stdout",
     "output_type": "stream",
     "text": [
      "(1701, 33) (213, 33) (213, 33)\n"
     ]
    }
   ],
   "source": [
    "print(X_train.shape,X_val.shape,X_test.shape)"
   ]
  },
  {
   "cell_type": "code",
   "execution_count": 267,
   "metadata": {},
   "outputs": [
    {
     "name": "stdout",
     "output_type": "stream",
     "text": [
      "train baseline score 0.3627831104901339 validation baseline score 0.3027510089508578 test baseline score 0.2967787125207716\n"
     ]
    }
   ],
   "source": [
    "baseline_model = LinearRegression()\n",
    "baseline_model.fit(X_train,Y_train)\n",
    "train_baseline_score = baseline_model.score(X_train,Y_train)\n",
    "val_baseline_score = baseline_model.score(X_val,Y_val)\n",
    "test_baseline_score = baseline_model.score(X_test,Y_test)\n",
    "print(\"train baseline score {} validation baseline score {} test baseline score {}\".format(train_baseline_score, val_baseline_score,test_baseline_score))"
   ]
  },
  {
   "cell_type": "markdown",
   "metadata": {},
   "source": [
    "Looking at coefficients of the model\n"
   ]
  },
  {
   "cell_type": "code",
   "execution_count": 268,
   "metadata": {},
   "outputs": [
    {
     "data": {
      "text/plain": [
       "[('runtime', 0.03019040789532793),\n",
       " ('budget', 3.1423114972448543e-09),\n",
       " ('August', 0.06817277808996197),\n",
       " ('December', -0.08060671521070614),\n",
       " ('February', -0.03342718817577748),\n",
       " ('January', 0.06320038850827167),\n",
       " ('July', -0.034175748108312504),\n",
       " ('June', 0.0619544471582607),\n",
       " ('March', -0.050343360528324964),\n",
       " ('May', -0.16863110286217514),\n",
       " ('November', 0.09665129139034301),\n",
       " ('October', 0.017673488147092586),\n",
       " ('September', 0.08948194476539474),\n",
       " ('Adventure', 0.21240345375326958),\n",
       " ('Animation', 0.8962578686319748),\n",
       " ('Biography', 0.8183333713964259),\n",
       " ('Comedy', 0.30122931694056465),\n",
       " ('Crime', 0.34794591142755044),\n",
       " ('Drama', 0.41283030135073284),\n",
       " ('Family', -0.4701771357195171),\n",
       " ('Fantasy', -0.09984260922466283),\n",
       " ('Horror', -0.09226636037729707),\n",
       " ('Music', 1.83342101354469),\n",
       " ('Musical', 1.6930671861242668),\n",
       " ('Mystery', 1.0362735424148244),\n",
       " ('Romance', 0.38549666143521105),\n",
       " ('Sci-Fi', 1.942890293094024e-13),\n",
       " ('Sport', 0.023434873889158297),\n",
       " ('Thriller', -0.6708225264951685),\n",
       " ('Western', 0.0),\n",
       " ('PG', -0.1038204634183),\n",
       " ('PG-13', 0.058709575461294364),\n",
       " ('R', 0.04511089102376801)]"
      ]
     },
     "execution_count": 268,
     "metadata": {},
     "output_type": "execute_result"
    }
   ],
   "source": [
    "list(zip(X_train.columns, baseline_model.coef_))"
   ]
  },
  {
   "cell_type": "code",
   "execution_count": 269,
   "metadata": {},
   "outputs": [
    {
     "data": {
      "text/plain": [
       "2.4395250660687657"
      ]
     },
     "execution_count": 269,
     "metadata": {},
     "output_type": "execute_result"
    }
   ],
   "source": [
    "baseline_model.intercept_"
   ]
  },
  {
   "cell_type": "markdown",
   "metadata": {},
   "source": [
    "# Model Enhancement\n",
    "\n",
    "\n",
    "Create a list of the names of the top 5 actors.\n",
    "Rename `cast1` - `cast3` with the following strings:\n",
    "* `ACTOR1` to `ACTOR5` if that actor is on the list, otherwise call it `ACTOR0`\n",
    "\n",
    "Create a list of the names of the top 5 directors.\n",
    "Rename `director` with one of the folllowing string:\n",
    "* `DIRECTOR1` to `DIRECTOR5` if the name is on the top-5 director's list. Otherwise name it `DIRECTOR0`\n",
    "\n",
    "\n",
    "Will use [this source](https://en.wikipedia.org/wiki/Academy_Award_for_Best_Director#Winners_and_nominees) to create list of directors: \n",
    "\n",
    "```python\n",
    "#for movies released 2010-2019\n",
    "\n",
    "\n",
    "```"
   ]
  },
  {
   "cell_type": "markdown",
   "metadata": {},
   "source": [
    "## Adding Features to Improve the Model"
   ]
  },
  {
   "cell_type": "code",
   "execution_count": 270,
   "metadata": {},
   "outputs": [],
   "source": [
    "#star_power[director] = SUM(star_rating[director]) + Number_of_Oscars[director]\n",
    "\n",
    "#calc number of Oscars per director\n",
    "\n",
    "\n",
    "\n"
   ]
  },
  {
   "cell_type": "markdown",
   "metadata": {},
   "source": [
    "I hypothesize that the director and cast have a strong influence on the `star_rating`\n",
    "\n",
    "So I am creating a feature called `star_power` that I hope is linearly related to `star_rating`\n",
    "\n",
    "I will then use this feature along with the other hopefully train a better model.\n",
    "\n",
    "If director helps I will factor in cast as well.\n",
    "\n",
    "Psuedocode equation for star power:\n",
    "\n",
    "```\n",
    "star_power[\"movie\"] = Number_of_Oscars[\"director\"] * Number_of_movies[\"director\"]\n",
    "```\n"
   ]
  },
  {
   "cell_type": "code",
   "execution_count": 271,
   "metadata": {},
   "outputs": [],
   "source": [
    "Best_Directors = [\"Tom Hooper\", \"Darren Aronofsky\",\n",
    "                  \"Joel Coen\", \"Ethan Coen\",\n",
    "                  \"David Fincher\", \"David O. Russell\",\n",
    "                  \"Woody Allen\",\"Michel Hazanavicius\", \"Terrence Malick\",\n",
    "                  \"Alexander Payne\", \"Martin Scorsese\",\n",
    "                  \"Michael Haneke\", \"David O. Russell\",\"Ang Lee\",\n",
    "                  \"Steven Spielberg\", \"Benh Zeitlin\",\n",
    "                  \"Steve McQueen\", \"Alexander Payne\",\"Alfonso Cuarón\",\n",
    "                  \"David O. Russell\", \"Martin Scorsese\",\"Alejandro G. Iñárritu\",\n",
    "                  \"Wes Anderson\",\"Richard Linklater\",\"Alejandro G. Iñárritu\",\n",
    "                  \"Bennet Miller\",\"Morten Tyldum\",\"Alejandro G. Iñárritu\",\n",
    "                  \"Lenny Abrahamson\",\"Tom McCarthy\",\n",
    "                  \"Adam McKay\", \"George Miller\",\n",
    "                  \"Mel Gibson\", \"Barry Jenkins\",\"Damien Chazelle\"\n",
    "                  \"Kenneth Lonegran\", \"Denis Villeneuve\",\"Guillermo del Toro\"\n",
    "                  \"Paul Thomas Anderson\", \"Greta Gerwig\",\n",
    "                  \"Christopher Nolan\",\"Jordan Peele\",\"Alfonso Cuarón\"\n",
    "                  \"Yorgos Lanthimos\",\"Spike Lee\",\n",
    "                  \"Adam McKay\",\"Pawel Pawlikowski\",\"Bong Joon-ho\"\n",
    "                  \"Sam Mendes\",\"Todd Phillips\",\n",
    "                  \"Martin Scorsese\", \"Quentin Tarantino\"]\n",
    "                  \n",
    "                  \n"
   ]
  },
  {
   "cell_type": "code",
   "execution_count": 272,
   "metadata": {},
   "outputs": [],
   "source": [
    "\n",
    "##Creating a new feature called star_power\n",
    "\n",
    "director_names =  movie_df_processed[\"director\"]\n",
    "director_names = set(director_names)\n",
    "movie_df_processed[\"star_power\"] = 0\n",
    "#mask = movie_df_processed[\"title\"].str.contains(\"Cold\")\n",
    "#mask = movie_df_processed[\"director\"] == \"Alejandro G. Iñárritu\"\n",
    "#movie_df_processed[mask]\n",
    "\n",
    "for director_name in director_names:\n",
    "    #current_count = 0\n",
    "    #for index,row in movie_df.iterrows():\n",
    "    #    if row[\"director\"] == director_name:\n",
    "    #        current_count += 1\n",
    "    director_count = movie_df_processed[ movie_df_processed[\"director\"] == director_name  ][\"title\"].count()\n",
    "    total_star_rating = movie_df_processed[ movie_df_processed[\"director\"] == director_name  ][\"star_rating\"].sum()\n",
    "    avg_star_rating = total_star_rating/director_count\n",
    "    \n",
    "    movie_df_processed.loc[ movie_df_processed[\"director\"] == director_name,\"star_power\" ] = Best_Directors.count( director_name )"
   ]
  },
  {
   "cell_type": "code",
   "execution_count": 273,
   "metadata": {},
   "outputs": [
    {
     "data": {
      "text/html": [
       "<div>\n",
       "<style scoped>\n",
       "    .dataframe tbody tr th:only-of-type {\n",
       "        vertical-align: middle;\n",
       "    }\n",
       "\n",
       "    .dataframe tbody tr th {\n",
       "        vertical-align: top;\n",
       "    }\n",
       "\n",
       "    .dataframe thead th {\n",
       "        text-align: right;\n",
       "    }\n",
       "</style>\n",
       "<table border=\"1\" class=\"dataframe\">\n",
       "  <thead>\n",
       "    <tr style=\"text-align: right;\">\n",
       "      <th></th>\n",
       "      <th>title</th>\n",
       "      <th>directlink_url</th>\n",
       "      <th>rating</th>\n",
       "      <th>director</th>\n",
       "      <th>releaseDate</th>\n",
       "      <th>genre</th>\n",
       "      <th>runtime</th>\n",
       "      <th>cast1</th>\n",
       "      <th>cast2</th>\n",
       "      <th>cast3</th>\n",
       "      <th>...</th>\n",
       "      <th>Mystery</th>\n",
       "      <th>Romance</th>\n",
       "      <th>Sci-Fi</th>\n",
       "      <th>Sport</th>\n",
       "      <th>Thriller</th>\n",
       "      <th>Western</th>\n",
       "      <th>PG</th>\n",
       "      <th>PG-13</th>\n",
       "      <th>R</th>\n",
       "      <th>star_power</th>\n",
       "    </tr>\n",
       "  </thead>\n",
       "  <tbody>\n",
       "    <tr>\n",
       "      <th>0</th>\n",
       "      <td>On the Basis of Sex</td>\n",
       "      <td>http://www.imdb.com/title/tt4669788/</td>\n",
       "      <td>PG-13</td>\n",
       "      <td>Mimi Leder</td>\n",
       "      <td>2019-01-11</td>\n",
       "      <td>Biography</td>\n",
       "      <td>120</td>\n",
       "      <td>Felicity Jones</td>\n",
       "      <td>Armie Hammer</td>\n",
       "      <td>Justin Theroux</td>\n",
       "      <td>...</td>\n",
       "      <td>0</td>\n",
       "      <td>0</td>\n",
       "      <td>0</td>\n",
       "      <td>0</td>\n",
       "      <td>0</td>\n",
       "      <td>0</td>\n",
       "      <td>0</td>\n",
       "      <td>1</td>\n",
       "      <td>0</td>\n",
       "      <td>0</td>\n",
       "    </tr>\n",
       "    <tr>\n",
       "      <th>1</th>\n",
       "      <td>The Gentlemen</td>\n",
       "      <td>http://www.imdb.com/title/tt8367814/</td>\n",
       "      <td>R</td>\n",
       "      <td>Guy Ritchie</td>\n",
       "      <td>2020-01-24</td>\n",
       "      <td>Action</td>\n",
       "      <td>113</td>\n",
       "      <td>Matthew McConaughey</td>\n",
       "      <td>Charlie Hunnam</td>\n",
       "      <td>Michelle Dockery</td>\n",
       "      <td>...</td>\n",
       "      <td>0</td>\n",
       "      <td>0</td>\n",
       "      <td>0</td>\n",
       "      <td>0</td>\n",
       "      <td>0</td>\n",
       "      <td>0</td>\n",
       "      <td>0</td>\n",
       "      <td>0</td>\n",
       "      <td>1</td>\n",
       "      <td>0</td>\n",
       "    </tr>\n",
       "    <tr>\n",
       "      <th>2</th>\n",
       "      <td>Knives Out</td>\n",
       "      <td>http://www.imdb.com/title/tt8946378/</td>\n",
       "      <td>PG-13</td>\n",
       "      <td>Rian Johnson</td>\n",
       "      <td>2019-11-27</td>\n",
       "      <td>Comedy</td>\n",
       "      <td>130</td>\n",
       "      <td>Daniel Craig</td>\n",
       "      <td>Chris Evans</td>\n",
       "      <td>Ana de Armas</td>\n",
       "      <td>...</td>\n",
       "      <td>0</td>\n",
       "      <td>0</td>\n",
       "      <td>0</td>\n",
       "      <td>0</td>\n",
       "      <td>0</td>\n",
       "      <td>0</td>\n",
       "      <td>0</td>\n",
       "      <td>1</td>\n",
       "      <td>0</td>\n",
       "      <td>0</td>\n",
       "    </tr>\n",
       "    <tr>\n",
       "      <th>3</th>\n",
       "      <td>Bastille Day</td>\n",
       "      <td>http://www.imdb.com/title/tt2368619/</td>\n",
       "      <td>R</td>\n",
       "      <td>James Watkins</td>\n",
       "      <td>2016-11-18</td>\n",
       "      <td>Action</td>\n",
       "      <td>92</td>\n",
       "      <td>Idris Elba</td>\n",
       "      <td>Richard Madden</td>\n",
       "      <td>Charlotte Le Bon</td>\n",
       "      <td>...</td>\n",
       "      <td>0</td>\n",
       "      <td>0</td>\n",
       "      <td>0</td>\n",
       "      <td>0</td>\n",
       "      <td>0</td>\n",
       "      <td>0</td>\n",
       "      <td>0</td>\n",
       "      <td>0</td>\n",
       "      <td>1</td>\n",
       "      <td>0</td>\n",
       "    </tr>\n",
       "    <tr>\n",
       "      <th>4</th>\n",
       "      <td>Joker</td>\n",
       "      <td>http://www.imdb.com/title/tt7286456/</td>\n",
       "      <td>R</td>\n",
       "      <td>Todd Phillips</td>\n",
       "      <td>2019-10-04</td>\n",
       "      <td>Crime</td>\n",
       "      <td>122</td>\n",
       "      <td>Joaquin Phoenix</td>\n",
       "      <td>Robert De Niro</td>\n",
       "      <td>Zazie Beetz</td>\n",
       "      <td>...</td>\n",
       "      <td>0</td>\n",
       "      <td>0</td>\n",
       "      <td>0</td>\n",
       "      <td>0</td>\n",
       "      <td>0</td>\n",
       "      <td>0</td>\n",
       "      <td>0</td>\n",
       "      <td>0</td>\n",
       "      <td>1</td>\n",
       "      <td>1</td>\n",
       "    </tr>\n",
       "  </tbody>\n",
       "</table>\n",
       "<p>5 rows × 46 columns</p>\n",
       "</div>"
      ],
      "text/plain": [
       "                 title                        directlink_url rating  \\\n",
       "0  On the Basis of Sex  http://www.imdb.com/title/tt4669788/  PG-13   \n",
       "1        The Gentlemen  http://www.imdb.com/title/tt8367814/      R   \n",
       "2           Knives Out  http://www.imdb.com/title/tt8946378/  PG-13   \n",
       "3         Bastille Day  http://www.imdb.com/title/tt2368619/      R   \n",
       "4                Joker  http://www.imdb.com/title/tt7286456/      R   \n",
       "\n",
       "        director releaseDate      genre  runtime                cast1  \\\n",
       "0     Mimi Leder  2019-01-11  Biography      120       Felicity Jones   \n",
       "1    Guy Ritchie  2020-01-24     Action      113  Matthew McConaughey   \n",
       "2   Rian Johnson  2019-11-27     Comedy      130         Daniel Craig   \n",
       "3  James Watkins  2016-11-18     Action       92           Idris Elba   \n",
       "4  Todd Phillips  2019-10-04      Crime      122      Joaquin Phoenix   \n",
       "\n",
       "            cast2             cast3  ...  Mystery  Romance Sci-Fi  Sport  \\\n",
       "0    Armie Hammer    Justin Theroux  ...        0        0      0      0   \n",
       "1  Charlie Hunnam  Michelle Dockery  ...        0        0      0      0   \n",
       "2     Chris Evans      Ana de Armas  ...        0        0      0      0   \n",
       "3  Richard Madden  Charlotte Le Bon  ...        0        0      0      0   \n",
       "4  Robert De Niro       Zazie Beetz  ...        0        0      0      0   \n",
       "\n",
       "   Thriller  Western  PG  PG-13  R  star_power  \n",
       "0         0        0   0      1  0           0  \n",
       "1         0        0   0      0  1           0  \n",
       "2         0        0   0      1  0           0  \n",
       "3         0        0   0      0  1           0  \n",
       "4         0        0   0      0  1           1  \n",
       "\n",
       "[5 rows x 46 columns]"
      ]
     },
     "execution_count": 273,
     "metadata": {},
     "output_type": "execute_result"
    }
   ],
   "source": [
    "#movie_df_processed[\"star_power\"] = movie_df_processed[\"star_rating\"] + Best_Directors.count( movie_df_processed[\"director\"] )\n",
    "movie_df_processed.head(5)"
   ]
  },
  {
   "cell_type": "code",
   "execution_count": 274,
   "metadata": {},
   "outputs": [
    {
     "data": {
      "text/plain": [
       "Index(['title', 'directlink_url', 'rating', 'director', 'releaseDate', 'genre',\n",
       "       'runtime', 'cast1', 'cast2', 'cast3', 'budget', 'star_rating',\n",
       "       'releaseMonth', 'releaseYear', 'August', 'December', 'February',\n",
       "       'January', 'July', 'June', 'March', 'May', 'November', 'October',\n",
       "       'September', 'Adventure', 'Animation', 'Biography', 'Comedy', 'Crime',\n",
       "       'Drama', 'Family', 'Fantasy', 'Horror', 'Music', 'Musical', 'Mystery',\n",
       "       'Romance', 'Sci-Fi', 'Sport', 'Thriller', 'Western', 'PG', 'PG-13', 'R',\n",
       "       'star_power'],\n",
       "      dtype='object')"
      ]
     },
     "execution_count": 274,
     "metadata": {},
     "output_type": "execute_result"
    }
   ],
   "source": [
    "movie_df_processed.columns"
   ]
  },
  {
   "cell_type": "code",
   "execution_count": 275,
   "metadata": {},
   "outputs": [
    {
     "data": {
      "text/html": [
       "<div>\n",
       "<style scoped>\n",
       "    .dataframe tbody tr th:only-of-type {\n",
       "        vertical-align: middle;\n",
       "    }\n",
       "\n",
       "    .dataframe tbody tr th {\n",
       "        vertical-align: top;\n",
       "    }\n",
       "\n",
       "    .dataframe thead th {\n",
       "        text-align: right;\n",
       "    }\n",
       "</style>\n",
       "<table border=\"1\" class=\"dataframe\">\n",
       "  <thead>\n",
       "    <tr style=\"text-align: right;\">\n",
       "      <th></th>\n",
       "      <th>title</th>\n",
       "      <th>directlink_url</th>\n",
       "      <th>rating</th>\n",
       "      <th>director</th>\n",
       "      <th>releaseDate</th>\n",
       "      <th>genre</th>\n",
       "      <th>runtime</th>\n",
       "      <th>cast1</th>\n",
       "      <th>cast2</th>\n",
       "      <th>cast3</th>\n",
       "      <th>...</th>\n",
       "      <th>Mystery</th>\n",
       "      <th>Romance</th>\n",
       "      <th>Sci-Fi</th>\n",
       "      <th>Sport</th>\n",
       "      <th>Thriller</th>\n",
       "      <th>Western</th>\n",
       "      <th>PG</th>\n",
       "      <th>PG-13</th>\n",
       "      <th>R</th>\n",
       "      <th>star_power</th>\n",
       "    </tr>\n",
       "  </thead>\n",
       "  <tbody>\n",
       "    <tr>\n",
       "      <th>0</th>\n",
       "      <td>On the Basis of Sex</td>\n",
       "      <td>http://www.imdb.com/title/tt4669788/</td>\n",
       "      <td>PG-13</td>\n",
       "      <td>Mimi Leder</td>\n",
       "      <td>2019-01-11</td>\n",
       "      <td>Biography</td>\n",
       "      <td>120</td>\n",
       "      <td>Felicity Jones</td>\n",
       "      <td>Armie Hammer</td>\n",
       "      <td>Justin Theroux</td>\n",
       "      <td>...</td>\n",
       "      <td>0</td>\n",
       "      <td>0</td>\n",
       "      <td>0</td>\n",
       "      <td>0</td>\n",
       "      <td>0</td>\n",
       "      <td>0</td>\n",
       "      <td>0</td>\n",
       "      <td>1</td>\n",
       "      <td>0</td>\n",
       "      <td>0</td>\n",
       "    </tr>\n",
       "    <tr>\n",
       "      <th>93</th>\n",
       "      <td>The Revenant</td>\n",
       "      <td>http://www.imdb.com/title/tt1663202/</td>\n",
       "      <td>R</td>\n",
       "      <td>Alejandro G. Iñárritu</td>\n",
       "      <td>2016-01-08</td>\n",
       "      <td>Action</td>\n",
       "      <td>156</td>\n",
       "      <td>Leonardo DiCaprio</td>\n",
       "      <td>Tom Hardy</td>\n",
       "      <td>Will Poulter</td>\n",
       "      <td>...</td>\n",
       "      <td>0</td>\n",
       "      <td>0</td>\n",
       "      <td>0</td>\n",
       "      <td>0</td>\n",
       "      <td>0</td>\n",
       "      <td>0</td>\n",
       "      <td>0</td>\n",
       "      <td>0</td>\n",
       "      <td>1</td>\n",
       "      <td>3</td>\n",
       "    </tr>\n",
       "    <tr>\n",
       "      <th>281</th>\n",
       "      <td>Birdman or (The Unexpected Virtue of Ignorance)</td>\n",
       "      <td>http://www.imdb.com/title/tt2562232/</td>\n",
       "      <td>R</td>\n",
       "      <td>Alejandro G. Iñárritu</td>\n",
       "      <td>2014-11-14</td>\n",
       "      <td>Comedy</td>\n",
       "      <td>119</td>\n",
       "      <td>Michael Keaton</td>\n",
       "      <td>Zach Galifianakis</td>\n",
       "      <td>Edward Norton</td>\n",
       "      <td>...</td>\n",
       "      <td>0</td>\n",
       "      <td>0</td>\n",
       "      <td>0</td>\n",
       "      <td>0</td>\n",
       "      <td>0</td>\n",
       "      <td>0</td>\n",
       "      <td>0</td>\n",
       "      <td>0</td>\n",
       "      <td>1</td>\n",
       "      <td>3</td>\n",
       "    </tr>\n",
       "  </tbody>\n",
       "</table>\n",
       "<p>3 rows × 46 columns</p>\n",
       "</div>"
      ],
      "text/plain": [
       "                                               title  \\\n",
       "0                                On the Basis of Sex   \n",
       "93                                      The Revenant   \n",
       "281  Birdman or (The Unexpected Virtue of Ignorance)   \n",
       "\n",
       "                           directlink_url rating               director  \\\n",
       "0    http://www.imdb.com/title/tt4669788/  PG-13             Mimi Leder   \n",
       "93   http://www.imdb.com/title/tt1663202/      R  Alejandro G. Iñárritu   \n",
       "281  http://www.imdb.com/title/tt2562232/      R  Alejandro G. Iñárritu   \n",
       "\n",
       "    releaseDate      genre  runtime              cast1              cast2  \\\n",
       "0    2019-01-11  Biography      120     Felicity Jones       Armie Hammer   \n",
       "93   2016-01-08     Action      156  Leonardo DiCaprio          Tom Hardy   \n",
       "281  2014-11-14     Comedy      119     Michael Keaton  Zach Galifianakis   \n",
       "\n",
       "              cast3  ...  Mystery  Romance Sci-Fi  Sport  Thriller  Western  \\\n",
       "0    Justin Theroux  ...        0        0      0      0         0        0   \n",
       "93     Will Poulter  ...        0        0      0      0         0        0   \n",
       "281   Edward Norton  ...        0        0      0      0         0        0   \n",
       "\n",
       "     PG  PG-13  R  star_power  \n",
       "0     0      1  0           0  \n",
       "93    0      0  1           3  \n",
       "281   0      0  1           3  \n",
       "\n",
       "[3 rows x 46 columns]"
      ]
     },
     "execution_count": 275,
     "metadata": {},
     "output_type": "execute_result"
    }
   ],
   "source": [
    "mask = (movie_df_processed[\"director\"]==\"Alejandro G. Iñárritu\") | (movie_df_processed[\"director\"]==\"Mimi Leder\")\n",
    "\n",
    "movie_df_processed[mask]"
   ]
  },
  {
   "cell_type": "code",
   "execution_count": 276,
   "metadata": {},
   "outputs": [
    {
     "data": {
      "text/plain": [
       "<matplotlib.collections.PathCollection at 0x7ff0891bca00>"
      ]
     },
     "execution_count": 276,
     "metadata": {},
     "output_type": "execute_result"
    },
    {
     "data": {
      "image/png": "[encoded data removed]",
      "text/plain": [
       "<Figure size 720x720 with 1 Axes>"
      ]
     },
     "metadata": {
      "needs_background": "light"
     },
     "output_type": "display_data"
    }
   ],
   "source": [
    "#TODO: Add title and labels for X and Y axes\n",
    "movie_df_processed.sort_values([\"star_rating\"],inplace=True)\n",
    "plt.figure(figsize=(10,10))\n",
    "plt.scatter(movie_df_processed[\"star_rating\"],movie_df_processed[\"star_power\"],alpha=0.2)"
   ]
  },
  {
   "cell_type": "code",
   "execution_count": 277,
   "metadata": {},
   "outputs": [
    {
     "data": {
      "text/html": [
       "<div>\n",
       "<style scoped>\n",
       "    .dataframe tbody tr th:only-of-type {\n",
       "        vertical-align: middle;\n",
       "    }\n",
       "\n",
       "    .dataframe tbody tr th {\n",
       "        vertical-align: top;\n",
       "    }\n",
       "\n",
       "    .dataframe thead th {\n",
       "        text-align: right;\n",
       "    }\n",
       "</style>\n",
       "<table border=\"1\" class=\"dataframe\">\n",
       "  <thead>\n",
       "    <tr style=\"text-align: right;\">\n",
       "      <th></th>\n",
       "      <th>director</th>\n",
       "      <th>star_power</th>\n",
       "    </tr>\n",
       "  </thead>\n",
       "  <tbody>\n",
       "    <tr>\n",
       "      <th>24</th>\n",
       "      <td>Alejandro G. Iñárritu</td>\n",
       "      <td>3</td>\n",
       "    </tr>\n",
       "    <tr>\n",
       "      <th>836</th>\n",
       "      <td>Martin Scorsese</td>\n",
       "      <td>3</td>\n",
       "    </tr>\n",
       "    <tr>\n",
       "      <th>305</th>\n",
       "      <td>David O. Russell</td>\n",
       "      <td>3</td>\n",
       "    </tr>\n",
       "    <tr>\n",
       "      <th>36</th>\n",
       "      <td>Alexander Payne</td>\n",
       "      <td>2</td>\n",
       "    </tr>\n",
       "    <tr>\n",
       "      <th>8</th>\n",
       "      <td>Adam McKay</td>\n",
       "      <td>2</td>\n",
       "    </tr>\n",
       "  </tbody>\n",
       "</table>\n",
       "</div>"
      ],
      "text/plain": [
       "                  director  star_power\n",
       "24   Alejandro G. Iñárritu           3\n",
       "836        Martin Scorsese           3\n",
       "305       David O. Russell           3\n",
       "36         Alexander Payne           2\n",
       "8               Adam McKay           2"
      ]
     },
     "execution_count": 277,
     "metadata": {},
     "output_type": "execute_result"
    }
   ],
   "source": [
    "movieProcessedAVGStarPowerPerDirector = movie_df_processed.groupby([\"director\"])[\"star_power\"].mean().reset_index()\n",
    "movieProcessedAVGStarPowerPerDirector.sort_values([\"star_power\"],inplace=True,ascending=False)\n",
    "movieProcessedAVGStarPowerPerDirector.head()"
   ]
  },
  {
   "cell_type": "code",
   "execution_count": 278,
   "metadata": {},
   "outputs": [
    {
     "data": {
      "text/plain": [
       "24      3\n",
       "836     3\n",
       "305     3\n",
       "36      2\n",
       "8       2\n",
       "1271    1\n",
       "1063    1\n",
       "1043    1\n",
       "325     1\n",
       "40      1\n",
       "Name: star_power, dtype: int64"
      ]
     },
     "execution_count": 278,
     "metadata": {},
     "output_type": "execute_result"
    }
   ],
   "source": [
    "movieProcessedAVGStarPowerPerDirector.iloc[:10,1]"
   ]
  },
  {
   "cell_type": "code",
   "execution_count": 279,
   "metadata": {},
   "outputs": [
    {
     "data": {
      "text/plain": [
       "<BarContainer object of 10 artists>"
      ]
     },
     "execution_count": 279,
     "metadata": {},
     "output_type": "execute_result"
    },
    {
     "data": {
      "image/png": "[encoded data removed]",
      "text/plain": [
       "<Figure size 720x720 with 1 Axes>"
      ]
     },
     "metadata": {
      "needs_background": "light"
     },
     "output_type": "display_data"
    }
   ],
   "source": [
    "#top 10 directors by star power\n",
    "plt.figure(figsize=(10,10))\n",
    "plt.barh(movieProcessedAVGStarPowerPerDirector.iloc[:10,0],movieProcessedAVGStarPowerPerDirector.iloc[:10,1])"
   ]
  },
  {
   "cell_type": "markdown",
   "metadata": {},
   "source": [
    "Plot appears to make sense. "
   ]
  },
  {
   "cell_type": "code",
   "execution_count": 280,
   "metadata": {},
   "outputs": [
    {
     "data": {
      "text/plain": [
       "<BarContainer object of 10 artists>"
      ]
     },
     "execution_count": 280,
     "metadata": {},
     "output_type": "execute_result"
    },
    {
     "data": {
      "image/png": "[encoded data removed]",
      "text/plain": [
       "<Figure size 720x720 with 1 Axes>"
      ]
     },
     "metadata": {
      "needs_background": "light"
     },
     "output_type": "display_data"
    }
   ],
   "source": [
    "#bottom 10 directors by star power\n",
    "plt.figure(figsize=(10,10))\n",
    "plt.barh(movieProcessedAVGStarPowerPerDirector.iloc[-10:,0],movieProcessedAVGStarPowerPerDirector.iloc[-10:,1])"
   ]
  },
  {
   "cell_type": "code",
   "execution_count": 281,
   "metadata": {},
   "outputs": [
    {
     "data": {
      "text/html": [
       "<div>\n",
       "<style scoped>\n",
       "    .dataframe tbody tr th:only-of-type {\n",
       "        vertical-align: middle;\n",
       "    }\n",
       "\n",
       "    .dataframe tbody tr th {\n",
       "        vertical-align: top;\n",
       "    }\n",
       "\n",
       "    .dataframe thead th {\n",
       "        text-align: right;\n",
       "    }\n",
       "</style>\n",
       "<table border=\"1\" class=\"dataframe\">\n",
       "  <thead>\n",
       "    <tr style=\"text-align: right;\">\n",
       "      <th></th>\n",
       "      <th>title</th>\n",
       "      <th>directlink_url</th>\n",
       "      <th>rating</th>\n",
       "      <th>director</th>\n",
       "      <th>releaseDate</th>\n",
       "      <th>genre</th>\n",
       "      <th>runtime</th>\n",
       "      <th>cast1</th>\n",
       "      <th>cast2</th>\n",
       "      <th>cast3</th>\n",
       "      <th>...</th>\n",
       "      <th>Mystery</th>\n",
       "      <th>Romance</th>\n",
       "      <th>Sci-Fi</th>\n",
       "      <th>Sport</th>\n",
       "      <th>Thriller</th>\n",
       "      <th>Western</th>\n",
       "      <th>PG</th>\n",
       "      <th>PG-13</th>\n",
       "      <th>R</th>\n",
       "      <th>star_power</th>\n",
       "    </tr>\n",
       "  </thead>\n",
       "  <tbody>\n",
       "    <tr>\n",
       "      <th>2512</th>\n",
       "      <td>Kirk Cameron's Saving Christmas</td>\n",
       "      <td>http://www.imdb.com/title/tt4009460/</td>\n",
       "      <td>PG</td>\n",
       "      <td>Darren Doane</td>\n",
       "      <td>2014-11-14</td>\n",
       "      <td>Comedy</td>\n",
       "      <td>79</td>\n",
       "      <td>Kirk Cameron</td>\n",
       "      <td>Darren Doane</td>\n",
       "      <td>Bridgette Cameron</td>\n",
       "      <td>...</td>\n",
       "      <td>0</td>\n",
       "      <td>0</td>\n",
       "      <td>0</td>\n",
       "      <td>0</td>\n",
       "      <td>0</td>\n",
       "      <td>0</td>\n",
       "      <td>1</td>\n",
       "      <td>0</td>\n",
       "      <td>0</td>\n",
       "      <td>0</td>\n",
       "    </tr>\n",
       "    <tr>\n",
       "      <th>2324</th>\n",
       "      <td>Foodfight!</td>\n",
       "      <td>http://www.imdb.com/title/tt0249516/</td>\n",
       "      <td>PG</td>\n",
       "      <td>Lawrence Kasanoff</td>\n",
       "      <td>2013-02-12</td>\n",
       "      <td>Animation</td>\n",
       "      <td>91</td>\n",
       "      <td>Hilary Duff</td>\n",
       "      <td>Haylie Duff</td>\n",
       "      <td>Charlie Sheen</td>\n",
       "      <td>...</td>\n",
       "      <td>0</td>\n",
       "      <td>0</td>\n",
       "      <td>0</td>\n",
       "      <td>0</td>\n",
       "      <td>0</td>\n",
       "      <td>0</td>\n",
       "      <td>1</td>\n",
       "      <td>0</td>\n",
       "      <td>0</td>\n",
       "      <td>0</td>\n",
       "    </tr>\n",
       "    <tr>\n",
       "      <th>3759</th>\n",
       "      <td>The Life Zone</td>\n",
       "      <td>http://www.imdb.com/title/tt1786714/</td>\n",
       "      <td>PG-13</td>\n",
       "      <td>Rod Weber</td>\n",
       "      <td>2011-06-10</td>\n",
       "      <td>Horror</td>\n",
       "      <td>81</td>\n",
       "      <td>Robert Loggia</td>\n",
       "      <td>Lindsey Haun</td>\n",
       "      <td>Martin Kove</td>\n",
       "      <td>...</td>\n",
       "      <td>0</td>\n",
       "      <td>0</td>\n",
       "      <td>0</td>\n",
       "      <td>0</td>\n",
       "      <td>0</td>\n",
       "      <td>0</td>\n",
       "      <td>0</td>\n",
       "      <td>1</td>\n",
       "      <td>0</td>\n",
       "      <td>0</td>\n",
       "    </tr>\n",
       "    <tr>\n",
       "      <th>3516</th>\n",
       "      <td>American Idiots</td>\n",
       "      <td>http://www.imdb.com/title/tt1698651/</td>\n",
       "      <td>R</td>\n",
       "      <td>Robert Taleghany</td>\n",
       "      <td>2013-06-18</td>\n",
       "      <td>Comedy</td>\n",
       "      <td>92</td>\n",
       "      <td>Jeffrey T. Schoettlin</td>\n",
       "      <td>Sean Muramatsu</td>\n",
       "      <td>Caroline D'Amore</td>\n",
       "      <td>...</td>\n",
       "      <td>0</td>\n",
       "      <td>0</td>\n",
       "      <td>0</td>\n",
       "      <td>0</td>\n",
       "      <td>0</td>\n",
       "      <td>0</td>\n",
       "      <td>0</td>\n",
       "      <td>0</td>\n",
       "      <td>1</td>\n",
       "      <td>0</td>\n",
       "    </tr>\n",
       "    <tr>\n",
       "      <th>3934</th>\n",
       "      <td>Snow White: A Deadly Summer</td>\n",
       "      <td>http://www.imdb.com/title/tt2149137/</td>\n",
       "      <td>PG-13</td>\n",
       "      <td>David DeCoteau</td>\n",
       "      <td>2012-03-16</td>\n",
       "      <td>Horror</td>\n",
       "      <td>83</td>\n",
       "      <td>Shanley Caswell</td>\n",
       "      <td>Maureen McCormick</td>\n",
       "      <td>Eric Roberts</td>\n",
       "      <td>...</td>\n",
       "      <td>0</td>\n",
       "      <td>0</td>\n",
       "      <td>0</td>\n",
       "      <td>0</td>\n",
       "      <td>0</td>\n",
       "      <td>0</td>\n",
       "      <td>0</td>\n",
       "      <td>1</td>\n",
       "      <td>0</td>\n",
       "      <td>0</td>\n",
       "    </tr>\n",
       "  </tbody>\n",
       "</table>\n",
       "<p>5 rows × 46 columns</p>\n",
       "</div>"
      ],
      "text/plain": [
       "                                title                        directlink_url  \\\n",
       "2512  Kirk Cameron's Saving Christmas  http://www.imdb.com/title/tt4009460/   \n",
       "2324                       Foodfight!  http://www.imdb.com/title/tt0249516/   \n",
       "3759                    The Life Zone  http://www.imdb.com/title/tt1786714/   \n",
       "3516                  American Idiots  http://www.imdb.com/title/tt1698651/   \n",
       "3934      Snow White: A Deadly Summer  http://www.imdb.com/title/tt2149137/   \n",
       "\n",
       "     rating           director releaseDate      genre  runtime  \\\n",
       "2512     PG       Darren Doane  2014-11-14     Comedy       79   \n",
       "2324     PG  Lawrence Kasanoff  2013-02-12  Animation       91   \n",
       "3759  PG-13          Rod Weber  2011-06-10     Horror       81   \n",
       "3516      R   Robert Taleghany  2013-06-18     Comedy       92   \n",
       "3934  PG-13     David DeCoteau  2012-03-16     Horror       83   \n",
       "\n",
       "                      cast1              cast2              cast3  ...  \\\n",
       "2512           Kirk Cameron       Darren Doane  Bridgette Cameron  ...   \n",
       "2324            Hilary Duff        Haylie Duff      Charlie Sheen  ...   \n",
       "3759          Robert Loggia       Lindsey Haun        Martin Kove  ...   \n",
       "3516  Jeffrey T. Schoettlin     Sean Muramatsu   Caroline D'Amore  ...   \n",
       "3934        Shanley Caswell  Maureen McCormick       Eric Roberts  ...   \n",
       "\n",
       "      Mystery  Romance Sci-Fi  Sport  Thriller  Western  PG  PG-13  R  \\\n",
       "2512        0        0      0      0         0        0   1      0  0   \n",
       "2324        0        0      0      0         0        0   1      0  0   \n",
       "3759        0        0      0      0         0        0   0      1  0   \n",
       "3516        0        0      0      0         0        0   0      0  1   \n",
       "3934        0        0      0      0         0        0   0      1  0   \n",
       "\n",
       "      star_power  \n",
       "2512           0  \n",
       "2324           0  \n",
       "3759           0  \n",
       "3516           0  \n",
       "3934           0  \n",
       "\n",
       "[5 rows x 46 columns]"
      ]
     },
     "execution_count": 281,
     "metadata": {},
     "output_type": "execute_result"
    }
   ],
   "source": [
    "movie_df_processed.head(5)"
   ]
  },
  {
   "cell_type": "code",
   "execution_count": 282,
   "metadata": {},
   "outputs": [],
   "source": [
    "\n",
    "#TODO: If you need to incorporate actors into star power number start here\n",
    "#movie_avg_star_per_cast1_df = movie_df_processed.groupby([\"cast1\"])[\"star_rating\"].mean().reset_index()\n",
    "#movie_avg_star_per_cast1_df.sort_values(\"star_rating\",ascending=False).head(50)"
   ]
  },
  {
   "cell_type": "markdown",
   "metadata": {},
   "source": [
    "From pair plot above I should add a feature that is budget^2\n"
   ]
  },
  {
   "cell_type": "code",
   "execution_count": 337,
   "metadata": {},
   "outputs": [],
   "source": [
    "movie_df_processed[\"budget2\"] = movie_df_processed[\"budget\"]**2 - 100000000"
   ]
  },
  {
   "cell_type": "code",
   "execution_count": 338,
   "metadata": {},
   "outputs": [
    {
     "data": {
      "text/plain": [
       "Index(['title', 'directlink_url', 'rating', 'director', 'releaseDate', 'genre',\n",
       "       'runtime', 'cast1', 'cast2', 'cast3', 'budget', 'star_rating',\n",
       "       'releaseMonth', 'releaseYear', 'August', 'December', 'February',\n",
       "       'January', 'July', 'June', 'March', 'May', 'November', 'October',\n",
       "       'September', 'Adventure', 'Animation', 'Biography', 'Comedy', 'Crime',\n",
       "       'Drama', 'Family', 'Fantasy', 'Horror', 'Music', 'Musical', 'Mystery',\n",
       "       'Romance', 'Sci-Fi', 'Sport', 'Thriller', 'Western', 'PG', 'PG-13', 'R',\n",
       "       'star_power', 'budget2'],\n",
       "      dtype='object')"
      ]
     },
     "execution_count": 338,
     "metadata": {},
     "output_type": "execute_result"
    }
   ],
   "source": [
    "movie_df_processed.columns"
   ]
  },
  {
   "cell_type": "code",
   "execution_count": 339,
   "metadata": {},
   "outputs": [
    {
     "data": {
      "text/html": [
       "<div>\n",
       "<style scoped>\n",
       "    .dataframe tbody tr th:only-of-type {\n",
       "        vertical-align: middle;\n",
       "    }\n",
       "\n",
       "    .dataframe tbody tr th {\n",
       "        vertical-align: top;\n",
       "    }\n",
       "\n",
       "    .dataframe thead th {\n",
       "        text-align: right;\n",
       "    }\n",
       "</style>\n",
       "<table border=\"1\" class=\"dataframe\">\n",
       "  <thead>\n",
       "    <tr style=\"text-align: right;\">\n",
       "      <th></th>\n",
       "      <th>title</th>\n",
       "      <th>directlink_url</th>\n",
       "      <th>rating</th>\n",
       "      <th>director</th>\n",
       "      <th>releaseDate</th>\n",
       "      <th>genre</th>\n",
       "      <th>runtime</th>\n",
       "      <th>cast1</th>\n",
       "      <th>cast2</th>\n",
       "      <th>cast3</th>\n",
       "      <th>...</th>\n",
       "      <th>Romance</th>\n",
       "      <th>Sci-Fi</th>\n",
       "      <th>Sport</th>\n",
       "      <th>Thriller</th>\n",
       "      <th>Western</th>\n",
       "      <th>PG</th>\n",
       "      <th>PG-13</th>\n",
       "      <th>R</th>\n",
       "      <th>star_power</th>\n",
       "      <th>budget2</th>\n",
       "    </tr>\n",
       "  </thead>\n",
       "  <tbody>\n",
       "    <tr>\n",
       "      <th>2512</th>\n",
       "      <td>Kirk Cameron's Saving Christmas</td>\n",
       "      <td>http://www.imdb.com/title/tt4009460/</td>\n",
       "      <td>PG</td>\n",
       "      <td>Darren Doane</td>\n",
       "      <td>2014-11-14</td>\n",
       "      <td>Comedy</td>\n",
       "      <td>79</td>\n",
       "      <td>Kirk Cameron</td>\n",
       "      <td>Darren Doane</td>\n",
       "      <td>Bridgette Cameron</td>\n",
       "      <td>...</td>\n",
       "      <td>0</td>\n",
       "      <td>0</td>\n",
       "      <td>0</td>\n",
       "      <td>0</td>\n",
       "      <td>0</td>\n",
       "      <td>1</td>\n",
       "      <td>0</td>\n",
       "      <td>0</td>\n",
       "      <td>0</td>\n",
       "      <td>249900000000</td>\n",
       "    </tr>\n",
       "    <tr>\n",
       "      <th>2324</th>\n",
       "      <td>Foodfight!</td>\n",
       "      <td>http://www.imdb.com/title/tt0249516/</td>\n",
       "      <td>PG</td>\n",
       "      <td>Lawrence Kasanoff</td>\n",
       "      <td>2013-02-12</td>\n",
       "      <td>Animation</td>\n",
       "      <td>91</td>\n",
       "      <td>Hilary Duff</td>\n",
       "      <td>Haylie Duff</td>\n",
       "      <td>Charlie Sheen</td>\n",
       "      <td>...</td>\n",
       "      <td>0</td>\n",
       "      <td>0</td>\n",
       "      <td>0</td>\n",
       "      <td>0</td>\n",
       "      <td>0</td>\n",
       "      <td>1</td>\n",
       "      <td>0</td>\n",
       "      <td>0</td>\n",
       "      <td>0</td>\n",
       "      <td>4224999900000000</td>\n",
       "    </tr>\n",
       "    <tr>\n",
       "      <th>3759</th>\n",
       "      <td>The Life Zone</td>\n",
       "      <td>http://www.imdb.com/title/tt1786714/</td>\n",
       "      <td>PG-13</td>\n",
       "      <td>Rod Weber</td>\n",
       "      <td>2011-06-10</td>\n",
       "      <td>Horror</td>\n",
       "      <td>81</td>\n",
       "      <td>Robert Loggia</td>\n",
       "      <td>Lindsey Haun</td>\n",
       "      <td>Martin Kove</td>\n",
       "      <td>...</td>\n",
       "      <td>0</td>\n",
       "      <td>0</td>\n",
       "      <td>0</td>\n",
       "      <td>0</td>\n",
       "      <td>0</td>\n",
       "      <td>0</td>\n",
       "      <td>1</td>\n",
       "      <td>0</td>\n",
       "      <td>0</td>\n",
       "      <td>2249900000000</td>\n",
       "    </tr>\n",
       "    <tr>\n",
       "      <th>3516</th>\n",
       "      <td>American Idiots</td>\n",
       "      <td>http://www.imdb.com/title/tt1698651/</td>\n",
       "      <td>R</td>\n",
       "      <td>Robert Taleghany</td>\n",
       "      <td>2013-06-18</td>\n",
       "      <td>Comedy</td>\n",
       "      <td>92</td>\n",
       "      <td>Jeffrey T. Schoettlin</td>\n",
       "      <td>Sean Muramatsu</td>\n",
       "      <td>Caroline D'Amore</td>\n",
       "      <td>...</td>\n",
       "      <td>0</td>\n",
       "      <td>0</td>\n",
       "      <td>0</td>\n",
       "      <td>0</td>\n",
       "      <td>0</td>\n",
       "      <td>0</td>\n",
       "      <td>0</td>\n",
       "      <td>1</td>\n",
       "      <td>0</td>\n",
       "      <td>562400000000</td>\n",
       "    </tr>\n",
       "    <tr>\n",
       "      <th>3934</th>\n",
       "      <td>Snow White: A Deadly Summer</td>\n",
       "      <td>http://www.imdb.com/title/tt2149137/</td>\n",
       "      <td>PG-13</td>\n",
       "      <td>David DeCoteau</td>\n",
       "      <td>2012-03-16</td>\n",
       "      <td>Horror</td>\n",
       "      <td>83</td>\n",
       "      <td>Shanley Caswell</td>\n",
       "      <td>Maureen McCormick</td>\n",
       "      <td>Eric Roberts</td>\n",
       "      <td>...</td>\n",
       "      <td>0</td>\n",
       "      <td>0</td>\n",
       "      <td>0</td>\n",
       "      <td>0</td>\n",
       "      <td>0</td>\n",
       "      <td>0</td>\n",
       "      <td>1</td>\n",
       "      <td>0</td>\n",
       "      <td>0</td>\n",
       "      <td>999900000000</td>\n",
       "    </tr>\n",
       "  </tbody>\n",
       "</table>\n",
       "<p>5 rows × 47 columns</p>\n",
       "</div>"
      ],
      "text/plain": [
       "                                title                        directlink_url  \\\n",
       "2512  Kirk Cameron's Saving Christmas  http://www.imdb.com/title/tt4009460/   \n",
       "2324                       Foodfight!  http://www.imdb.com/title/tt0249516/   \n",
       "3759                    The Life Zone  http://www.imdb.com/title/tt1786714/   \n",
       "3516                  American Idiots  http://www.imdb.com/title/tt1698651/   \n",
       "3934      Snow White: A Deadly Summer  http://www.imdb.com/title/tt2149137/   \n",
       "\n",
       "     rating           director releaseDate      genre  runtime  \\\n",
       "2512     PG       Darren Doane  2014-11-14     Comedy       79   \n",
       "2324     PG  Lawrence Kasanoff  2013-02-12  Animation       91   \n",
       "3759  PG-13          Rod Weber  2011-06-10     Horror       81   \n",
       "3516      R   Robert Taleghany  2013-06-18     Comedy       92   \n",
       "3934  PG-13     David DeCoteau  2012-03-16     Horror       83   \n",
       "\n",
       "                      cast1              cast2              cast3  ...  \\\n",
       "2512           Kirk Cameron       Darren Doane  Bridgette Cameron  ...   \n",
       "2324            Hilary Duff        Haylie Duff      Charlie Sheen  ...   \n",
       "3759          Robert Loggia       Lindsey Haun        Martin Kove  ...   \n",
       "3516  Jeffrey T. Schoettlin     Sean Muramatsu   Caroline D'Amore  ...   \n",
       "3934        Shanley Caswell  Maureen McCormick       Eric Roberts  ...   \n",
       "\n",
       "      Romance  Sci-Fi Sport  Thriller  Western  PG  PG-13  R  star_power  \\\n",
       "2512        0       0     0         0        0   1      0  0           0   \n",
       "2324        0       0     0         0        0   1      0  0           0   \n",
       "3759        0       0     0         0        0   0      1  0           0   \n",
       "3516        0       0     0         0        0   0      0  1           0   \n",
       "3934        0       0     0         0        0   0      1  0           0   \n",
       "\n",
       "               budget2  \n",
       "2512      249900000000  \n",
       "2324  4224999900000000  \n",
       "3759     2249900000000  \n",
       "3516      562400000000  \n",
       "3934      999900000000  \n",
       "\n",
       "[5 rows x 47 columns]"
      ]
     },
     "execution_count": 339,
     "metadata": {},
     "output_type": "execute_result"
    }
   ],
   "source": [
    "movie_df_processed.head()"
   ]
  },
  {
   "cell_type": "markdown",
   "metadata": {},
   "source": [
    "## Model Improved but not sure why"
   ]
  },
  {
   "cell_type": "code",
   "execution_count": 345,
   "metadata": {},
   "outputs": [],
   "source": [
    "movie_for_modeling_df = movie_df_processed[['star_rating','runtime','budget', 'August', 'December', 'February','January', 'July', 'June', 'March',\n",
    "                                            'May', 'November', 'October','September', 'Adventure', 'Animation', 'Biography', 'Comedy', 'Crime',\n",
    "                                            'Drama', 'Family', 'Fantasy', 'Horror', 'Music', 'Musical', 'Mystery','Romance', 'Sci-Fi', 'Sport', 'Thriller', 'Western', 'PG', 'PG-13', 'R',\"star_power\"]]"
   ]
  },
  {
   "cell_type": "code",
   "execution_count": 346,
   "metadata": {},
   "outputs": [],
   "source": [
    "Y = movie_for_modeling_df[\"star_rating\"]\n",
    "X = movie_for_modeling_df.drop(\"star_rating\",axis=1)\n"
   ]
  },
  {
   "cell_type": "code",
   "execution_count": 347,
   "metadata": {},
   "outputs": [],
   "source": [
    "#hold out 20% for testing\n",
    "#Creating a 80 train / 10 validation / 10 test split\n",
    "X_train_val,X_test, Y_train_val,Y_test = train_test_split(X, Y, test_size=0.10, random_state=RANDOM_STATE)\n",
    "X_train, X_val, Y_train, Y_val = train_test_split(X_train_val, Y_train_val, test_size=0.111, random_state=RANDOM_STATE)\n"
   ]
  },
  {
   "cell_type": "code",
   "execution_count": 348,
   "metadata": {},
   "outputs": [
    {
     "name": "stdout",
     "output_type": "stream",
     "text": [
      "train score 0.35610153341604833 validation score 0.35545417800019063 test score 0.35545417800019063\n"
     ]
    }
   ],
   "source": [
    "model2 = LinearRegression()\n",
    "model2.fit(X_train,Y_train)\n",
    "train_model2_score = model2.score(X_train,Y_train)\n",
    "val_model2_score = model2.score(X_test,Y_test)\n",
    "test_model2_score = model2.score(X_test,Y_test)\n",
    "print(\"train score {} validation score {} test score {}\".format(train_model2_score, val_model2_score, test_model2_score))"
   ]
  },
  {
   "cell_type": "code",
   "execution_count": 344,
   "metadata": {},
   "outputs": [
    {
     "name": "stdout",
     "output_type": "stream",
     "text": [
      "train baseline score 0.3627831104901339 validation baseline score 0.3027510089508578 test baseline score 0.2967787125207716\n"
     ]
    }
   ],
   "source": [
    "print(\"train baseline score {} validation baseline score {} test baseline score {}\".format(train_baseline_score, val_baseline_score,test_baseline_score))"
   ]
  },
  {
   "cell_type": "markdown",
   "metadata": {},
   "source": [
    "I'm seeing a large improvement after adding star power.\n",
    "I added budget^2 but that made the test validation and test results worse than the baseline.\n",
    "```\n",
    "train score 0.28410554866317494 validation score 0.2923290467533759 test score 0.2923290467533759\n",
    "```"
   ]
  },
  {
   "cell_type": "code",
   "execution_count": 105,
   "metadata": {},
   "outputs": [
    {
     "data": {
      "text/plain": [
       "[('runtime', 0.03019040789532793),\n",
       " ('budget', 3.1423114972448543e-09),\n",
       " ('August', 0.06817277808996197),\n",
       " ('December', -0.08060671521070614),\n",
       " ('February', -0.03342718817577748),\n",
       " ('January', 0.06320038850827167),\n",
       " ('July', -0.034175748108312504),\n",
       " ('June', 0.0619544471582607),\n",
       " ('March', -0.050343360528324964),\n",
       " ('May', -0.16863110286217514),\n",
       " ('November', 0.09665129139034301),\n",
       " ('October', 0.017673488147092586),\n",
       " ('September', 0.08948194476539474),\n",
       " ('Adventure', 0.21240345375326958),\n",
       " ('Animation', 0.8962578686319748),\n",
       " ('Biography', 0.8183333713964259),\n",
       " ('Comedy', 0.30122931694056465),\n",
       " ('Crime', 0.34794591142755044),\n",
       " ('Drama', 0.41283030135073284),\n",
       " ('Family', -0.4701771357195171),\n",
       " ('Fantasy', -0.09984260922466283),\n",
       " ('Horror', -0.09226636037729707),\n",
       " ('Music', 1.83342101354469),\n",
       " ('Musical', 1.6930671861242668),\n",
       " ('Mystery', 1.0362735424148244),\n",
       " ('Romance', 0.38549666143521105),\n",
       " ('Sci-Fi', 1.942890293094024e-13),\n",
       " ('Sport', 0.023434873889158297),\n",
       " ('Thriller', -0.6708225264951685),\n",
       " ('Western', 0.0),\n",
       " ('PG', -0.1038204634183),\n",
       " ('PG-13', 0.058709575461294364),\n",
       " ('R', 0.04511089102376801)]"
      ]
     },
     "execution_count": 105,
     "metadata": {},
     "output_type": "execute_result"
    }
   ],
   "source": [
    "list(zip(X_train.columns, baseline_model.coef_))"
   ]
  },
  {
   "cell_type": "code",
   "execution_count": null,
   "metadata": {},
   "outputs": [],
   "source": []
  },
  {
   "cell_type": "markdown",
   "metadata": {},
   "source": [
    "Create a data frame with just the fields I want.\n",
    "\n",
    "Note to myself: I hypothesize that `director`, `cast[1-3]` are important. I'm leaving them out to create my baseline model.\n",
    "\n",
    "Including both month and year. I think movies that are released on weekends may end up getting better ratings than movies that do not so will add day name if I need to improve the model"
   ]
  },
  {
   "cell_type": "markdown",
   "metadata": {},
   "source": [
    "# Challenge 1\n",
    "Plot domestic gross over time\n"
   ]
  },
  {
   "cell_type": "code",
   "execution_count": null,
   "metadata": {},
   "outputs": [],
   "source": []
  },
  {
   "cell_type": "markdown",
   "metadata": {},
   "source": [
    "I interpret this question to mean to plot the domestic gross for movies in the data frame in the order in which movies were released\n"
   ]
  },
  {
   "cell_type": "markdown",
   "metadata": {},
   "source": [
    "create a datetime data type column in the data frame"
   ]
  },
  {
   "cell_type": "code",
   "execution_count": null,
   "metadata": {},
   "outputs": [],
   "source": [
    "movie_df[\"releasedDateTime\"] = pd.to_datetime( movie_df[\"releaseDate\"] )"
   ]
  },
  {
   "cell_type": "code",
   "execution_count": null,
   "metadata": {},
   "outputs": [],
   "source": [
    "movie_df.head()"
   ]
  },
  {
   "cell_type": "code",
   "execution_count": null,
   "metadata": {},
   "outputs": [],
   "source": [
    "movie_df.sort_values([\"releasedDateTime\"],inplace=True)"
   ]
  },
  {
   "cell_type": "code",
   "execution_count": null,
   "metadata": {},
   "outputs": [],
   "source": [
    "movie_df.head()"
   ]
  },
  {
   "cell_type": "code",
   "execution_count": null,
   "metadata": {},
   "outputs": [],
   "source": [
    "movie_df.tail()"
   ]
  },
  {
   "cell_type": "code",
   "execution_count": null,
   "metadata": {},
   "outputs": [],
   "source": [
    "plt.figure(figsize=(20,10))\n",
    "plt.xticks(rotation=\"vertical\")\n",
    "plt.plot(movie_df[\"releasedDateTime\"],movie_df[\"domesticTotalGross\"])\n",
    "plt.title(\"Plot of Domestic Gross For Movies First Released in 2013\")\n",
    "plt.xlabel(\"Date\")\n",
    "plt.ylabel(\"Gross in Dollars\")\n",
    "plt.show()"
   ]
  },
  {
   "cell_type": "markdown",
   "metadata": {},
   "source": [
    "# Challenge 2\n",
    "Plot runtime vs. domestic total gross."
   ]
  },
  {
   "cell_type": "code",
   "execution_count": null,
   "metadata": {},
   "outputs": [],
   "source": [
    "plt.figure(figsize=(20,10))\n",
    "plt.xticks(rotation=\"vertical\")\n",
    "plt.scatter(movie_df[\"runtime\"],movie_df[\"domesticTotalGross\"],alpha=0.15,color=\"green\")\n",
    "plt.title(\"Plot of Domestic Gross vs Run Timr in 2013\")\n",
    "plt.xlabel(\"Run Time in Minutes\")\n",
    "plt.ylabel(\"Gross in Dollars\")\n",
    "plt.show()"
   ]
  },
  {
   "cell_type": "markdown",
   "metadata": {},
   "source": [
    "# Challenge 3\n",
    "Group your data by Rating and find the average runtime and domestic total gross at each level of Rating.\n"
   ]
  },
  {
   "cell_type": "code",
   "execution_count": null,
   "metadata": {},
   "outputs": [],
   "source": [
    "movie_avgruntime_per_rating_df = movie_df.groupby([\"rating\"])[\"runtime\"].mean().reset_index()"
   ]
  },
  {
   "cell_type": "code",
   "execution_count": null,
   "metadata": {},
   "outputs": [],
   "source": [
    "movie_avgruntime_per_rating_df.head()"
   ]
  },
  {
   "cell_type": "code",
   "execution_count": null,
   "metadata": {},
   "outputs": [],
   "source": [
    "movie_avgruntime_per_rating_df.rename(columns={\"runtime\":\"avg_runtime\"},inplace=True)"
   ]
  },
  {
   "cell_type": "code",
   "execution_count": null,
   "metadata": {},
   "outputs": [],
   "source": [
    "movie_avgruntime_per_rating_df"
   ]
  },
  {
   "cell_type": "code",
   "execution_count": null,
   "metadata": {},
   "outputs": [],
   "source": [
    "movie_totdomgross_per_rating_df = movie_df.groupby([\"rating\"])[\"domesticTotalGross\"].sum().reset_index()"
   ]
  },
  {
   "cell_type": "code",
   "execution_count": null,
   "metadata": {},
   "outputs": [],
   "source": [
    "movie_totdomgross_per_rating_df"
   ]
  },
  {
   "cell_type": "code",
   "execution_count": null,
   "metadata": {},
   "outputs": [],
   "source": [
    "movie_totdomgross_per_rating_df.sort_values([\"domesticTotalGross\"], inplace=True)"
   ]
  },
  {
   "cell_type": "code",
   "execution_count": null,
   "metadata": {},
   "outputs": [],
   "source": [
    "movie_totdomgross_per_rating_df"
   ]
  },
  {
   "cell_type": "markdown",
   "metadata": {},
   "source": [
    "# Challenge 4\n",
    "Make one figure with (N=the number of MPAA ratings there are) subplots, and in each plot the release date vs the domestic total gross.\n",
    "\n"
   ]
  },
  {
   "cell_type": "code",
   "execution_count": null,
   "metadata": {},
   "outputs": [],
   "source": [
    " movie_df[\"rating\"].value_counts()"
   ]
  },
  {
   "cell_type": "markdown",
   "metadata": {},
   "source": [
    "What are the movies with no MPAA Rating?"
   ]
  },
  {
   "cell_type": "code",
   "execution_count": null,
   "metadata": {},
   "outputs": [],
   "source": [
    "pd.set_option('display.max_rows', 20)\n",
    "#pd.set_option('display.max_columns', None)\n",
    "#pd.set_option('display.width', None)\n",
    "#pd.set_option('display.max_colwidth', -1)\n",
    "movie_df[ movie_df[\"rating\"]==\"\" ].head(100)"
   ]
  },
  {
   "cell_type": "code",
   "execution_count": null,
   "metadata": {},
   "outputs": [],
   "source": [
    "plt.figure(figsize=(20,20))\n",
    "plt.suptitle('domestic tot gross vs release date for movies with the same MPAA rating',fontsize = 16)\n",
    "\n",
    "\n",
    "plt.subplot(3,2,1) # (number of rows, number of columns, number of plot)\n",
    "plt.scatter(movie_df[ movie_df[\"rating\"]==\"\" ][\"releasedDateTime\"], movie_df[ movie_df[\"rating\"]==\"\" ][\"domesticTotalGross\"],alpha=0.2)\n",
    "plt.title(\"MPAA Rating Unknown\")\n",
    "plt.xlabel(\"Run Time in Minutes\")\n",
    "plt.ylabel(\"Gross in Dollars\")\n",
    "\n",
    "plt.subplot(3,2,2)\n",
    "plt.scatter(movie_df[ movie_df[\"rating\"]==\"R\" ][\"releasedDateTime\"], movie_df[ movie_df[\"rating\"]==\"R\" ][\"domesticTotalGross\"],alpha=0.2,color=\"green\")\n",
    "plt.title(\"MPAA Rated R\")\n",
    "plt.xlabel(\"Run Time in Minutes\")\n",
    "plt.ylabel(\"Gross in Dollars\")\n",
    "\n",
    "plt.subplot(3,2,3)\n",
    "plt.scatter(movie_df[ movie_df[\"rating\"]==\"PG-13\" ][\"releasedDateTime\"], movie_df[ movie_df[\"rating\"]==\"PG-13\" ][\"domesticTotalGross\"],alpha=0.2,color=\"purple\")\n",
    "plt.title(\"MPAA Rated PG-13\")\n",
    "plt.xlabel(\"Run Time in Minutes\")\n",
    "plt.ylabel(\"Gross in Dollars\")\n",
    "\n",
    "plt.subplot(3,2,4)\n",
    "plt.scatter(movie_df[ movie_df[\"rating\"]==\"PG\" ][\"releasedDateTime\"], movie_df[ movie_df[\"rating\"]==\"PG\" ][\"domesticTotalGross\"],alpha=0.2,color=\"red\")\n",
    "plt.title(\"MPAA Rated PG\")\n",
    "plt.xlabel(\"Run Time in Minutes\")\n",
    "plt.ylabel(\"Gross in Dollars\")\n",
    "\n",
    "plt.subplot(3,2,5)\n",
    "plt.scatter(movie_df[ movie_df[\"rating\"]==\"NC-17\" ][\"releasedDateTime\"], movie_df[ movie_df[\"rating\"]==\"NC-17\" ][\"domesticTotalGross\"],color=\"red\",marker=\"+\")\n",
    "plt.title(\"MPAA Rated NC-17\")\n",
    "plt.xlabel(\"Run Time in Minutes\")\n",
    "plt.ylabel(\"Gross in Dollars\")\n",
    "\n",
    "plt.subplot(3,2,6)\n",
    "plt.scatter(movie_df[ movie_df[\"rating\"]==\"PG-\" ][\"releasedDateTime\"], movie_df[ movie_df[\"rating\"]==\"PG-\" ][\"domesticTotalGross\"],color=\"black\")\n",
    "plt.title(\"MPAA Rated PG- (most likely rated PG-13)\")\n",
    "plt.xlabel(\"Run Time in Minutes\")\n",
    "plt.ylabel(\"Gross in Dollars\");\n"
   ]
  },
  {
   "cell_type": "markdown",
   "metadata": {},
   "source": [
    "# Challenge 5\n",
    "What director in your dataset has the highest gross per movie?"
   ]
  },
  {
   "cell_type": "markdown",
   "metadata": {},
   "source": [
    "Find the gross per director\n"
   ]
  },
  {
   "cell_type": "code",
   "execution_count": null,
   "metadata": {},
   "outputs": [],
   "source": [
    "movie_totgross_per_director_df = movie_df.groupby([\"director\"])[\"domesticTotalGross\"].sum().reset_index()"
   ]
  },
  {
   "cell_type": "code",
   "execution_count": null,
   "metadata": {},
   "outputs": [],
   "source": [
    "movie_totgross_per_director_df.sort_values([\"domesticTotalGross\"],inplace=True,ascending=False)"
   ]
  },
  {
   "cell_type": "code",
   "execution_count": null,
   "metadata": {},
   "outputs": [],
   "source": [
    "movie_totgross_per_director_df.head()"
   ]
  },
  {
   "cell_type": "markdown",
   "metadata": {},
   "source": [
    "[Francis Lawrence](https://en.wikipedia.org/wiki/Francis_Lawrence) is pretty prolific so the data here seems right."
   ]
  },
  {
   "cell_type": "markdown",
   "metadata": {},
   "source": [
    "# Challenge 6\n",
    "Bin your dataset into months and make a bar graph of the mean domestic total gross by month. Error bars will represent the standard error of the mean.\n",
    "\n",
    "Title of graph should include: Mean Domestic Total Gross by Month in 2013\n",
    "\n",
    "Topic for consideration: what is the correct formula for the standard error of the mean? Examine the error bars and see if they are “reasonable.”"
   ]
  },
  {
   "cell_type": "markdown",
   "metadata": {},
   "source": [
    "Create a new column that holds the name of the month of the release date for  the movie in the same row as the release date"
   ]
  },
  {
   "cell_type": "code",
   "execution_count": null,
   "metadata": {},
   "outputs": [],
   "source": [
    "import seaborn as sns"
   ]
  },
  {
   "cell_type": "code",
   "execution_count": null,
   "metadata": {},
   "outputs": [],
   "source": [
    "movie_df[\"releasedMonth\"] = movie_df[\"releasedDateTime\"].dt.month_name()\n",
    "movie_df[\"releasedMonthNumber\"] = pd.DatetimeIndex(movie_df[\"releasedDateTime\"]).month"
   ]
  },
  {
   "cell_type": "code",
   "execution_count": null,
   "metadata": {},
   "outputs": [],
   "source": [
    "movie_avggross_per_month = movie_df.groupby([\"releasedMonthNumber\",\"releasedMonth\"])[\"domesticTotalGross\"].mean().reset_index()"
   ]
  },
  {
   "cell_type": "code",
   "execution_count": null,
   "metadata": {},
   "outputs": [],
   "source": [
    "movie_avggross_per_month.rename(columns={\"domesticTotalGross\":\"domesticMeanGross\"},inplace=True)"
   ]
  },
  {
   "cell_type": "code",
   "execution_count": null,
   "metadata": {},
   "outputs": [],
   "source": [
    "movie_avggross_per_month.sort_values([\"releasedMonthNumber\"],inplace=True)"
   ]
  },
  {
   "cell_type": "code",
   "execution_count": null,
   "metadata": {},
   "outputs": [],
   "source": [
    "movie_avggross_per_month"
   ]
  },
  {
   "cell_type": "code",
   "execution_count": null,
   "metadata": {},
   "outputs": [],
   "source": [
    "\n",
    "\n",
    "\n",
    "months_of_the_year = [\"January\",\"February\",\"March\",\"April\",\"May\",\"June\",\"July\",\"August\",\"September\",\"October\",\"November\",\"December\"]\n",
    "list_of_domestic_gross = []\n",
    "\n",
    "for month_name in months_of_the_year:\n",
    "    list_of_domestic_gross.append( movie_avggross_per_month[movie_avggross_per_month[\"releasedMonth\"]==month_name][\"domesticMeanGross\"] )"
   ]
  },
  {
   "cell_type": "code",
   "execution_count": null,
   "metadata": {},
   "outputs": [],
   "source": [
    "#len(list_of_domestic_gross)"
   ]
  },
  {
   "cell_type": "code",
   "execution_count": null,
   "metadata": {},
   "outputs": [],
   "source": [
    "plt.figure(figsize=(10,6))\n",
    "plt.plot(months_of_the_year,list_of_domestic_gross)\n",
    "plt.xticks(rotation=60)\n",
    "plt.xlabel(\"Month of the Year\")\n",
    "plt.ylabel(\"AVG Domestic Gross\")\n",
    "plt.title(\"AVG Domestic Gross for all movies released in month on X-axis in 2013\")\n",
    "plt.show();"
   ]
  },
  {
   "cell_type": "code",
   "execution_count": null,
   "metadata": {},
   "outputs": [],
   "source": [
    "plt.figure(figsize=(20,20))\n",
    "sns.boxplot(y=movie_avggross_per_month[\"domesticMeanGross\"],x=movie_avggross_per_month[\"releasedMonthNumber\"]);\n",
    "#movie_avggross_per_month.boxplot(figsize=(20,10),by=\"releasedMonthNumber\")"
   ]
  },
  {
   "cell_type": "code",
   "execution_count": null,
   "metadata": {},
   "outputs": [],
   "source": []
  },
  {
   "cell_type": "markdown",
   "metadata": {},
   "source": [
    "Going to attempt to pull up web site data for movies by name"
   ]
  },
  {
   "cell_type": "markdown",
   "metadata": {},
   "source": [
    "From inspecting the search result HTML all links to movies are found under these types of HTML elements:\n",
    "\n",
    "```html\n",
    "<div class=\"lister-item-content\">\n",
    "    <h3 class=\"lister-item-header\">\n",
    "    <!-- Stuff -->\n",
    "    <a href=\"LINK_TO_MOVIE\">NAME_OF_MOVIE</a>\n",
    "    <!-- Stuff -->\n",
    "    </h3>\n",
    "</div>\n",
    "      \n",
    "\n",
    "```\n",
    "\n",
    "So I should grab all the `<div>` tags with that class and then get the link within them\n"
   ]
  },
  {
   "cell_type": "markdown",
   "metadata": {},
   "source": [
    "IMDB Only shows the first 50 movies when you request search results.\n",
    "\n",
    "So I will need the link to the next 50 movies.\n",
    "\n",
    "That is located in the web page returned on the search request here:\n",
    "\n",
    "```html\n",
    "\n",
    "<div class=\"desc\">\n",
    "    <a href=\"LINK_TO_NEXT_PAGE_IN_SEARCH_RESULTS\">Next<!--text--></a>\n",
    "</div>\n",
    "\n",
    "```"
   ]
  },
  {
   "cell_type": "code",
   "execution_count": null,
   "metadata": {},
   "outputs": [],
   "source": []
  }
 ],
 "metadata": {
  "kernelspec": {
   "display_name": "Python 3",
   "language": "python",
   "name": "python3"
  },
  "language_info": {
   "codemirror_mode": {
    "name": "ipython",
    "version": 3
   },
   "file_extension": ".py",
   "mimetype": "text/x-python",
   "name": "python",
   "nbconvert_exporter": "python",
   "pygments_lexer": "ipython3",
   "version": "3.8.3"
  }
 },
 "nbformat": 4,
 "nbformat_minor": 4
}
