{
 "cells": [
  {
   "cell_type": "markdown",
   "metadata": {},
   "source": [
    "* Topic:        Challenge Set 3\n",
    "* Subject:      Pandas (Exploring and visualizing our scraped movie data in pandas)\n",
    "* Date:         TODO\n",
    "* Name:         Michael Green ( malexgreen@gmail.com )"
   ]
  },
  {
   "cell_type": "markdown",
   "metadata": {},
   "source": [
    "What data do I need to read in if I'm going to scrape IMDB.com?\n",
    "\n",
    "Here's what is in `GITROOT/challenges/challenges_data/2013_movies.csv`\n",
    "\n",
    "```csv\n",
    "Title,Budget,DomesticTotalGross,Director,Rating,Runtime,ReleaseDate\n",
    "\n",
    "```\n",
    "\n",
    "So if I'm going to scrape IMDB, I'll need the same data:\n",
    "\n",
    "* `title`: Name of the movie\n",
    "* `budget`: How much money was spent to make the movie\n",
    "* `domesticTotalGross`: How much money did the movie make in gross ticket sales in the US\n",
    "* `rating`: MPAA Rating\n",
    "* `director`: Name of the director\n",
    "* `releaseDate`: Calendar date of the release. Time of release is assumed to be 12AM EDT\n",
    "\n",
    "Note: This code will be reused for [Project 2](https://github.com/michael-a-green/onl20_ds4/blob/master/curriculum/project-02/project-02-introduction/project_02.md). Some of the fetures extracted in this notebook are used for this challenge (Challenge Set 3) and other features are used in the project.\n",
    "\n",
    "Below are the features that are extracted in this notebook that are used for the challenge:\n",
    "\n",
    "* `title`: Name of the movie\n",
    "* `budget`: How much money was spent to make the movie\n",
    "* `domesticTotalGross`: How much money did the movie make in gross ticket sales in the US\n",
    "* `rating`: MPAA Rating\n",
    "* `director`: Name of the director\n",
    "* `releaseDate`: Calendar date of the release. Time of release is assumed to be 12AM EDT\n",
    "\n",
    "Below are the features that will be used in the linear regression that will be performed in Project 2:\n",
    "\n",
    "* `budget`: How much money was spent to make the movie\n",
    "* `rating`: MPAA Rating, one-hot encoded\n",
    "* `encodedDirector`: Name of the director, but encoded in a specific way that will be explained below\n",
    "* `releaseDate`: Calendar date of the release. Time of release is assumed to be 12AM EDT\n",
    "* `genre` one-hot encoded. See below for more details\n",
    "* `runtime` measured in minutes\n",
    "* `encodedCast1` one-hot encoded value of the name of a cast member if that cast member is in a specific list of cast members. Details of the encoding are explained below\n",
    "* `encodedCast2` one-hot encoded value of the name of a another cast member if that cast member is in a specific list of cast members. Details of the encoding are explained below\n",
    "\n",
    "\n"
   ]
  },
  {
   "cell_type": "markdown",
   "metadata": {},
   "source": [
    "Notes on imdb.com web page structure:\n",
    "\n",
    "I searched for the move _Star Wars: Episode IV - A New Hope_.\n",
    "\n",
    "This is the URL it gave to me:\n",
    "`https://www.imdb.com/title/tt0076759/?ref_=nv_sr_srsg_0`\n",
    "\n",
    "This is where I found the content I need for this page`<div>` of a movie entry:\n",
    "\n",
    "```html\n",
    "<div id=\"pagecontent\" class=\"pagecontent\">\n",
    "    <div id=\"main_bottom\" class=\"main\">\n",
    "        \n",
    "        <div class=\"article\" id=\"titleStoryLine\">\n",
    "            \n",
    "        </div>\n",
    "    \n",
    "    \n",
    "    <div class=\"article\" id=\"titleDetails\">\n",
    "\n",
    "        <div class=\"txt-block>\n",
    "            <h4 class=\"inline\">Release Date:</h4>\n",
    "            \" 25 May 1977 (USA) \"\n",
    "            <!-- more stuff see web page for details -->\n",
    "        </div>\n",
    "        <div class=\"txt-block>\n",
    "            <h4 class=\"inline\">Also Known As:</h4>\n",
    "            \" Star Wars: Episode IV - A New Hope \"\n",
    "             <!-- more stuff see web page for details -->\n",
    "        </div>\n",
    "        <h3 class=\"subheading\">Box Office</h3>\n",
    "        <div class=\"txt-block\">\n",
    "            <h4 class=\"inline\">Budget:</h4>\n",
    "            \"$11,000,000 \"\n",
    "            <!-- more stuff see web page for details -->\n",
    "        </div>\n",
    "        <div class=\"txt-block\">\n",
    "            <h4 class=\"inline\">Gross USA:</h4>\n",
    "            \" $460,998,507 \"\n",
    "        </div>\n",
    "        \n",
    "    </div>\n",
    "\n",
    "</div>\n",
    "\n",
    "\n",
    "```"
   ]
  },
  {
   "cell_type": "code",
   "execution_count": 1,
   "metadata": {},
   "outputs": [],
   "source": [
    "#Just going to try beautiful soup to see if I can grab all of the txt-blocks\n",
    "from bs4 import BeautifulSoup\n",
    "from random import randint\n",
    "import pandas as pd\n",
    "import numpy as np\n",
    "import matplotlib.pyplot as plt\n",
    "import requests\n",
    "import re\n",
    "import time\n",
    "import pickle"
   ]
  },
  {
   "cell_type": "code",
   "execution_count": 2,
   "metadata": {},
   "outputs": [],
   "source": [
    "#movie module\n",
    "from mymovie import Movie"
   ]
  },
  {
   "cell_type": "code",
   "execution_count": 3,
   "metadata": {},
   "outputs": [],
   "source": [
    "%matplotlib inline"
   ]
  },
  {
   "cell_type": "code",
   "execution_count": 4,
   "metadata": {},
   "outputs": [],
   "source": [
    "def my_wait(start,stop):\n",
    "    \"\"\"\n",
    "    waits a number of seconds randomly selected between start and stop\n",
    "    \"\"\"\n",
    "    if start <= 0:\n",
    "        start = 10\n",
    "    \n",
    "    if stop <= 0:\n",
    "        stop = 30\n",
    "    \n",
    "    if stop <= start:\n",
    "        stop = start + 10\n",
    "    \n",
    "    wait_time = randint(start,stop)\n",
    "    \n",
    "    time.sleep(wait_time)\n",
    "    \n",
    "    return\n",
    "    "
   ]
  },
  {
   "cell_type": "code",
   "execution_count": 5,
   "metadata": {},
   "outputs": [],
   "source": [
    "def my_print(print_string,debug=0,LOG_FILE=None):\n",
    "    \"\"\"\n",
    "    LOG_FILE = Must be a file handle\n",
    "    \"\"\"\n",
    "    \n",
    "    if (debug):\n",
    "        if (LOG_FILE == None):\n",
    "            print(print_string)\n",
    "        else:\n",
    "            print(print_string, file=LOG_FILE)\n"
   ]
  },
  {
   "cell_type": "code",
   "execution_count": 6,
   "metadata": {},
   "outputs": [
    {
     "name": "stdout",
     "output_type": "stream",
     "text": [
      "title = Star Wars Episode IV domesticTotalGross = 0 rating =  director =  releaseDate =  runtime = 0 cast1 =  cast2 =  cast3 =   genre =  budget = 0 star_rating = 0 directlink_url = www.intel.com\n"
     ]
    }
   ],
   "source": [
    "star_wars = Movie(\"Star Wars Episode IV\",\"www.intel.com\")\n",
    "my_print(star_wars,1)"
   ]
  },
  {
   "cell_type": "code",
   "execution_count": 7,
   "metadata": {},
   "outputs": [],
   "source": [
    "#search for movies released in 2013\n",
    "\n",
    "#Set DEBUG to some_value >= 1 if you want to see debug messages\n",
    "DEBUG = 1\n",
    "log_file_name = \"notebook.log\"\n",
    "LOG_FILE = open(log_file_name,\"w\")\n",
    "\n",
    "\n",
    "#possibly better search\n",
    "#search_url = \"https://www.imdb.com/search/title/?title_type=feature&release_date=2010-01-01,2019-12-31&certificates=US%3AG,US%3APG,US%3APG-13,US%3AR,US%3ANC-17\"\n",
    "#search_url = \"https://www.imdb.com/search/title/?title_type=feature&release_date=2013-01-01,2013-12-31\"\n",
    "\n",
    "search_url = \"https://www.imdb.com/search/title/?title_type=feature&release_date=2010-01-01,2019-12-31&certificates=US%3AG,US%3APG,US%3APG-13,US%3AR,US%3ANC-17&countries=us\"\n",
    "\n",
    "IMDB_ROOT_URL = \"http://www.imdb.com\"\n",
    "\n",
    "list_of_movie_objects = []\n",
    "\n",
    "#flag that tells me if this is the first search I \n",
    "#sent to IMDB or not (1 means it's the first search, 0 means it's a subsequent search)\n",
    "first_search = 1\n",
    "\n",
    "NUMBER_OF_MOVIES = 4000\n",
    "NUMBER_OF_MOVIES_PER_SEARCH = 50\n",
    "\n",
    "#won't exactly get the number of movies I want but won't get\n",
    "#less than the number of movies I want\n",
    "if (NUMBER_OF_MOVIES % NUMBER_OF_MOVIES_PER_SEARCH) == 0:\n",
    "    number_of_searches = NUMBER_OF_MOVIES // NUMBER_OF_MOVIES_PER_SEARCH\n",
    "else:\n",
    "    number_of_searches = (NUMBER_OF_MOVIES // NUMBER_OF_MOVIES_PER_SEARCH) + 1\n",
    "\n",
    "\n",
    "#FOR DEBUG ONLY\n",
    "#hard coding number_of_searches\n",
    "#number_of_searches = 3\n",
    "\n",
    "\n",
    "    "
   ]
  },
  {
   "cell_type": "code",
   "execution_count": 8,
   "metadata": {},
   "outputs": [],
   "source": [
    "#search IMD for movies\n",
    "#find direct link to movies\n",
    "#create a movie object with the title and the link to the movie\n",
    "#write it to a pickle file\n",
    "#find link to next search\n",
    "\n",
    "for i in range(number_of_searches):\n",
    "    \n",
    "    my_print(\"\\nwaiting before I scrape...\", DEBUG, LOG_FILE)\n",
    "    my_wait(10,35)\n",
    "    my_print(\"done waiting\", DEBUG, LOG_FILE)\n",
    "    \n",
    "    #DANGER: INITIATE SEARCH REQUEST TO IMDB\n",
    "    web_response = requests.get(search_url)\n",
    "    \n",
    "    if (web_response.status_code == 200):\n",
    "        my_print(\"web request was good\", DEBUG, LOG_FILE)\n",
    "    else:\n",
    "        print(\"error: web request failed\",DEBUG, LOG_FILE)\n",
    "        break\n",
    "    \n",
    "    #contains IMDB movie search results\n",
    "    web_response_text = web_response.text\n",
    "    my_print(\"got web response text\", DEBUG, LOG_FILE)\n",
    "    \n",
    "    #convert web response to a soup object\n",
    "    web_response_soup = BeautifulSoup(web_response_text)\n",
    "    \n",
    "    my_print(\"got web response soup\", DEBUG, LOG_FILE)\n",
    "    \n",
    "    #the <div> that has the data I want is this one\n",
    "    listOfListerItemContentDIV = web_response_soup.find_all(\"div\",class_=\"lister-item-content\")\n",
    "    \n",
    "    my_print(\"got divs for movies\", DEBUG, LOG_FILE)\n",
    "    \n",
    "    if first_search == 1:\n",
    "        PICKLE_FILE = open(\"Movie_objects.pkl\",\"wb\")\n",
    "        my_print(\"opening pickle file for writing\", DEBUG, LOG_FILE)\n",
    "    else:\n",
    "        PICKLE_FILE = open(\"Movie_objects.pkl\",\"ab\")\n",
    "        my_print(\"opening pickle file for appending\", DEBUG, LOG_FILE)\n",
    "\n",
    "\n",
    "    \n",
    "    #########################################################\n",
    "    #\n",
    "    # search through the <div class_=\"lister-item-content> tags\n",
    "    # looking for the information I want\n",
    "    #\n",
    "    ###########################################################\n",
    "    for listerItemContentDIV in listOfListerItemContentDIV:\n",
    "        \n",
    "        #these accesses  rely on the knowledge of the structure\n",
    "        #of the web page. hopefully it doesn't change a lot\n",
    "        link_to_movie = listerItemContentDIV.h3.a.get(\"href\")\n",
    "        title_of_the_movie = listerItemContentDIV.h3.a.text\n",
    "        link_to_movie = IMDB_ROOT_URL + link_to_movie\n",
    "        \n",
    "#        if first_search == 1:\n",
    "#            PICKLE_FILE = open(\"Movie_objects.p\",\"wb\")\n",
    "#            #first_search = 0\n",
    "#        else:\n",
    "#            PICKLE_FILE = open(\"Movie_objects.p\",\"ab\")\n",
    "        \n",
    "        #CREATING MOVIE OBJECT\n",
    "        themovie = Movie(title_of_the_movie,link_to_movie)\n",
    "        \n",
    "        my_print(themovie, DEBUG, LOG_FILE)\n",
    "        \n",
    "        if themovie != None:\n",
    "            #TODO: Check status of pickle.dump() call for error\n",
    "            pickle.dump(themovie,PICKLE_FILE)\n",
    "        else:\n",
    "            my_print(\"error: themovie is None and should not be!\", 1, LOG_FILE)\n",
    "            break\n",
    "        \n",
    "        my_print(\"done writing pickl file\", DEBUG, LOG_FILE)\n",
    "        \n",
    "    #we found the first 50 movie links\n",
    "    #close the pickle\n",
    "    PICKLE_FILE.close()\n",
    "    #wait a little to give time to flush the file buffer\n",
    "    my_wait(1,3)\n",
    "    \n",
    "    #grab link to the next 50 movies\n",
    "    #The links are in the <div class=\"desc\">\n",
    "    listOfDescDIV = web_response_soup.find_all(\"div\",class_=\"desc\")\n",
    "    \n",
    "    #Big assumption. There will be two <div class=\"desc\">\n",
    "    #tags on the search web page, and that the \"Next\" link and the\n",
    "    #\"Previous\" link will be in that <div> tag. So you can\n",
    "    #always pick the first one\n",
    "    DescDIV_a_tag = listOfDescDIV[0].find_all(\"a\")\n",
    "    \n",
    "    for a_tag in DescDIV_a_tag:\n",
    "        temp_text = a_tag.text\n",
    "        if re.match(r\"Next\",temp_text):\n",
    "            link_to_next_page = IMDB_ROOT_URL + a_tag.get(\"href\")\n",
    "        \n",
    "#    print(\"listOfDescDIV[0] -->\\n{}\\n\".format(listOfDescDIV[0].__dict__))\n",
    "    \n",
    "#    if first_search == 1:\n",
    "#        link_to_next_page = IMDB_ROOT_URL + listOfDescDIV[0].a.get(\"href\")\n",
    "#    else:\n",
    "#        link_to_next_page = \"\"\n",
    "#        listOfDescDIV_soup = BeautifulSoup(listOfDescDIV.text)\n",
    "#        list_of_a_ref = listOfDescDIV_soup.find_all(\"a\")\n",
    "#        \n",
    "#        for aref in list_of_a_ref:\n",
    "#            if re.match(r\"Next\",aref.text):\n",
    "#                link_to_next_page = IMDB_ROOT_URL + aref.get(\"href\")\n",
    "       \n",
    "    \n",
    "    #going to try this\n",
    "    #get text for DIV\n",
    "    #pass it to soup to get another soup object\n",
    "    \n",
    "    my_print(\"link to next search page is {}\".format(link_to_next_page), DEBUG, LOG_FILE)\n",
    "\n",
    "    \n",
    "    #doing this for debug purposes --> making debugging easier\n",
    "    \n",
    "    #is this right????\n",
    "    #search_url = link_to_next_page.get(\"href\")\n",
    "    search_url = link_to_next_page\n",
    "    first_search = 0\n",
    "    \n",
    "    "
   ]
  },
  {
   "cell_type": "code",
   "execution_count": null,
   "metadata": {},
   "outputs": [],
   "source": [
    "#Check Code Uncomment to check pickle file\n",
    "#also reference for sear\n",
    "#Just going to grab all of the Movie objects out of the pickle file and see if they all got in\n",
    "PICKLE_FILE = open(\"Movie_objects.pkl\",\"rb\")\n",
    "\n",
    "#saving it here as a backup just in case I get locked out\n",
    "#at least I'll have the data\n",
    "EXPANDED_PICKLE_FILE = open(\"Movie_populated_objects.pkl\",\"wb\")\n",
    "list_of_populated_movies = []\n",
    "while 1:\n",
    "    try:\n",
    "        mymovie = pickle.load(PICKLE_FILE)\n",
    "        mymovie.populate_movie(DEBUG=1,LOG_FILE=LOG_FILE,start_time=5,stop_time=17)\n",
    "        list_of_populated_movies.append(mymovie)\n",
    "        pickle.dump(mymovie,EXPANDED_PICKLE_FILE)\n",
    "        #uncomment for debugging only\n",
    "\n",
    "        my_print(mymovie, DEBUG, LOG_FILE)\n",
    "        \n",
    "    except EOFError:\n",
    "        break\n",
    "\n",
    "PICKLE_FILE.close()\n",
    "EXPANDED_PICKLE_FILE.close()"
   ]
  },
  {
   "cell_type": "markdown",
   "metadata": {},
   "source": [
    "How many movies did I scrape?"
   ]
  },
  {
   "cell_type": "code",
   "execution_count": null,
   "metadata": {},
   "outputs": [],
   "source": [
    "print(len(list_of_populated_movies))\n"
   ]
  },
  {
   "cell_type": "code",
   "execution_count": null,
   "metadata": {},
   "outputs": [],
   "source": [
    "#creating a dictionary of the entries of each movie object\n",
    "Movie.__dict__.keys()"
   ]
  },
  {
   "cell_type": "code",
   "execution_count": null,
   "metadata": {},
   "outputs": [],
   "source": [
    "column_names_in_df = list(list_of_populated_movies[0].__dict__.keys())\n",
    "my_print(column_names_in_df,DEBUG)"
   ]
  },
  {
   "cell_type": "code",
   "execution_count": null,
   "metadata": {},
   "outputs": [],
   "source": [
    "column_values_in_df = list(list_of_populated_movies[0].__dict__.values())\n",
    "my_print(column_values_in_df,DEBUG)"
   ]
  },
  {
   "cell_type": "code",
   "execution_count": null,
   "metadata": {},
   "outputs": [],
   "source": [
    "\n",
    "#TODO: Write a get method that takes a data member name as an argument so I can do a 2D comprehension (or at least a for loop) next time or find out how to do that without a get method\n",
    "list_of_movie_data_lists = []\n",
    "\n",
    "for movie_key in column_names_in_df:\n",
    "    \n",
    "    list_of_movie_data_values = []\n",
    "    \n",
    "    for movie_obj in list_of_populated_movies:\n",
    "        list_of_movie_data_values.append( movie_obj.__dict__[movie_key] )\n",
    "    \n",
    "    list_of_movie_data_lists.append(list_of_movie_data_values)\n",
    "\n",
    "#create dictionary that will be used to create pandas data frame\n",
    "\n",
    "movie_dict = dict(zip(column_names_in_df,list_of_movie_data_lists))\n",
    "\n"
   ]
  },
  {
   "cell_type": "code",
   "execution_count": null,
   "metadata": {},
   "outputs": [],
   "source": [
    "movie_dict.keys()"
   ]
  },
  {
   "cell_type": "code",
   "execution_count": null,
   "metadata": {},
   "outputs": [],
   "source": [
    "movie_df = pd.DataFrame(movie_dict)\n",
    "movie_df.head(10)"
   ]
  },
  {
   "cell_type": "markdown",
   "metadata": {},
   "source": [
    "# Challenge 1\n",
    "Plot domestic gross over time\n"
   ]
  },
  {
   "cell_type": "markdown",
   "metadata": {},
   "source": [
    "I interpret this question to mean to plot the domestic gross for movies in the data frame in the order in which movies were released\n"
   ]
  },
  {
   "cell_type": "markdown",
   "metadata": {},
   "source": [
    "create a datetime data type column in the data frame"
   ]
  },
  {
   "cell_type": "code",
   "execution_count": null,
   "metadata": {},
   "outputs": [],
   "source": [
    "movie_df[\"releasedDateTime\"] = pd.to_datetime( movie_df[\"releaseDate\"] )"
   ]
  },
  {
   "cell_type": "code",
   "execution_count": null,
   "metadata": {},
   "outputs": [],
   "source": [
    "movie_df.head()"
   ]
  },
  {
   "cell_type": "code",
   "execution_count": null,
   "metadata": {},
   "outputs": [],
   "source": [
    "movie_df.sort_values([\"releasedDateTime\"],inplace=True)"
   ]
  },
  {
   "cell_type": "code",
   "execution_count": null,
   "metadata": {},
   "outputs": [],
   "source": [
    "movie_df.head()"
   ]
  },
  {
   "cell_type": "code",
   "execution_count": null,
   "metadata": {},
   "outputs": [],
   "source": [
    "movie_df.tail()"
   ]
  },
  {
   "cell_type": "code",
   "execution_count": null,
   "metadata": {},
   "outputs": [],
   "source": [
    "plt.figure(figsize=(20,10))\n",
    "plt.xticks(rotation=\"vertical\")\n",
    "plt.plot(movie_df[\"releasedDateTime\"],movie_df[\"domesticTotalGross\"])\n",
    "plt.title(\"Plot of Domestic Gross For Movies First Released in 2013\")\n",
    "plt.xlabel(\"Date\")\n",
    "plt.ylabel(\"Gross in Dollars\")\n",
    "plt.show()"
   ]
  },
  {
   "cell_type": "markdown",
   "metadata": {},
   "source": [
    "# Challenge 2\n",
    "Plot runtime vs. domestic total gross."
   ]
  },
  {
   "cell_type": "code",
   "execution_count": null,
   "metadata": {},
   "outputs": [],
   "source": [
    "plt.figure(figsize=(20,10))\n",
    "plt.xticks(rotation=\"vertical\")\n",
    "plt.scatter(movie_df[\"runtime\"],movie_df[\"domesticTotalGross\"],alpha=0.15,color=\"green\")\n",
    "plt.title(\"Plot of Domestic Gross vs Run Timr in 2013\")\n",
    "plt.xlabel(\"Run Time in Minutes\")\n",
    "plt.ylabel(\"Gross in Dollars\")\n",
    "plt.show()"
   ]
  },
  {
   "cell_type": "markdown",
   "metadata": {},
   "source": [
    "# Challenge 3\n",
    "Group your data by Rating and find the average runtime and domestic total gross at each level of Rating.\n"
   ]
  },
  {
   "cell_type": "code",
   "execution_count": null,
   "metadata": {},
   "outputs": [],
   "source": [
    "movie_avgruntime_per_rating_df = movie_df.groupby([\"rating\"])[\"runtime\"].mean().reset_index()"
   ]
  },
  {
   "cell_type": "code",
   "execution_count": null,
   "metadata": {},
   "outputs": [],
   "source": [
    "movie_avgruntime_per_rating_df.head()"
   ]
  },
  {
   "cell_type": "code",
   "execution_count": null,
   "metadata": {},
   "outputs": [],
   "source": [
    "movie_avgruntime_per_rating_df.rename(columns={\"runtime\":\"avg_runtime\"},inplace=True)"
   ]
  },
  {
   "cell_type": "code",
   "execution_count": null,
   "metadata": {},
   "outputs": [],
   "source": [
    "movie_avgruntime_per_rating_df"
   ]
  },
  {
   "cell_type": "code",
   "execution_count": null,
   "metadata": {},
   "outputs": [],
   "source": [
    "movie_totdomgross_per_rating_df = movie_df.groupby([\"rating\"])[\"domesticTotalGross\"].sum().reset_index()"
   ]
  },
  {
   "cell_type": "code",
   "execution_count": null,
   "metadata": {},
   "outputs": [],
   "source": [
    "movie_totdomgross_per_rating_df"
   ]
  },
  {
   "cell_type": "code",
   "execution_count": null,
   "metadata": {},
   "outputs": [],
   "source": [
    "movie_totdomgross_per_rating_df.sort_values([\"domesticTotalGross\"], inplace=True)"
   ]
  },
  {
   "cell_type": "code",
   "execution_count": null,
   "metadata": {},
   "outputs": [],
   "source": [
    "movie_totdomgross_per_rating_df"
   ]
  },
  {
   "cell_type": "markdown",
   "metadata": {},
   "source": [
    "# Challenge 4\n",
    "Make one figure with (N=the number of MPAA ratings there are) subplots, and in each plot the release date vs the domestic total gross.\n",
    "\n"
   ]
  },
  {
   "cell_type": "code",
   "execution_count": null,
   "metadata": {},
   "outputs": [],
   "source": [
    " movie_df[\"rating\"].value_counts()"
   ]
  },
  {
   "cell_type": "markdown",
   "metadata": {},
   "source": [
    "What are the movies with no MPAA Rating?"
   ]
  },
  {
   "cell_type": "code",
   "execution_count": null,
   "metadata": {},
   "outputs": [],
   "source": [
    "pd.set_option('display.max_rows', 20)\n",
    "#pd.set_option('display.max_columns', None)\n",
    "#pd.set_option('display.width', None)\n",
    "#pd.set_option('display.max_colwidth', -1)\n",
    "movie_df[ movie_df[\"rating\"]==\"\" ].head(100)"
   ]
  },
  {
   "cell_type": "code",
   "execution_count": null,
   "metadata": {},
   "outputs": [],
   "source": [
    "plt.figure(figsize=(20,20))\n",
    "plt.suptitle('domestic tot gross vs release date for movies with the same MPAA rating',fontsize = 16)\n",
    "\n",
    "\n",
    "plt.subplot(3,2,1) # (number of rows, number of columns, number of plot)\n",
    "plt.scatter(movie_df[ movie_df[\"rating\"]==\"\" ][\"releasedDateTime\"], movie_df[ movie_df[\"rating\"]==\"\" ][\"domesticTotalGross\"],alpha=0.2)\n",
    "plt.title(\"MPAA Rating Unknown\")\n",
    "plt.xlabel(\"Run Time in Minutes\")\n",
    "plt.ylabel(\"Gross in Dollars\")\n",
    "\n",
    "plt.subplot(3,2,2)\n",
    "plt.scatter(movie_df[ movie_df[\"rating\"]==\"R\" ][\"releasedDateTime\"], movie_df[ movie_df[\"rating\"]==\"R\" ][\"domesticTotalGross\"],alpha=0.2,color=\"green\")\n",
    "plt.title(\"MPAA Rated R\")\n",
    "plt.xlabel(\"Run Time in Minutes\")\n",
    "plt.ylabel(\"Gross in Dollars\")\n",
    "\n",
    "plt.subplot(3,2,3)\n",
    "plt.scatter(movie_df[ movie_df[\"rating\"]==\"PG-13\" ][\"releasedDateTime\"], movie_df[ movie_df[\"rating\"]==\"PG-13\" ][\"domesticTotalGross\"],alpha=0.2,color=\"purple\")\n",
    "plt.title(\"MPAA Rated PG-13\")\n",
    "plt.xlabel(\"Run Time in Minutes\")\n",
    "plt.ylabel(\"Gross in Dollars\")\n",
    "\n",
    "plt.subplot(3,2,4)\n",
    "plt.scatter(movie_df[ movie_df[\"rating\"]==\"PG\" ][\"releasedDateTime\"], movie_df[ movie_df[\"rating\"]==\"PG\" ][\"domesticTotalGross\"],alpha=0.2,color=\"red\")\n",
    "plt.title(\"MPAA Rated PG\")\n",
    "plt.xlabel(\"Run Time in Minutes\")\n",
    "plt.ylabel(\"Gross in Dollars\")\n",
    "\n",
    "plt.subplot(3,2,5)\n",
    "plt.scatter(movie_df[ movie_df[\"rating\"]==\"NC-17\" ][\"releasedDateTime\"], movie_df[ movie_df[\"rating\"]==\"NC-17\" ][\"domesticTotalGross\"],color=\"red\",marker=\"+\")\n",
    "plt.title(\"MPAA Rated NC-17\")\n",
    "plt.xlabel(\"Run Time in Minutes\")\n",
    "plt.ylabel(\"Gross in Dollars\")\n",
    "\n",
    "plt.subplot(3,2,6)\n",
    "plt.scatter(movie_df[ movie_df[\"rating\"]==\"PG-\" ][\"releasedDateTime\"], movie_df[ movie_df[\"rating\"]==\"PG-\" ][\"domesticTotalGross\"],color=\"black\")\n",
    "plt.title(\"MPAA Rated PG- (most likely rated PG-13)\")\n",
    "plt.xlabel(\"Run Time in Minutes\")\n",
    "plt.ylabel(\"Gross in Dollars\");\n"
   ]
  },
  {
   "cell_type": "markdown",
   "metadata": {},
   "source": [
    "# Challenge 5\n",
    "What director in your dataset has the highest gross per movie?"
   ]
  },
  {
   "cell_type": "markdown",
   "metadata": {},
   "source": [
    "Find the gross per director\n"
   ]
  },
  {
   "cell_type": "code",
   "execution_count": null,
   "metadata": {},
   "outputs": [],
   "source": [
    "movie_totgross_per_director_df = movie_df.groupby([\"director\"])[\"domesticTotalGross\"].sum().reset_index()"
   ]
  },
  {
   "cell_type": "code",
   "execution_count": null,
   "metadata": {},
   "outputs": [],
   "source": [
    "movie_totgross_per_director_df.sort_values([\"domesticTotalGross\"],inplace=True,ascending=False)"
   ]
  },
  {
   "cell_type": "code",
   "execution_count": null,
   "metadata": {},
   "outputs": [],
   "source": [
    "movie_totgross_per_director_df.head()"
   ]
  },
  {
   "cell_type": "markdown",
   "metadata": {},
   "source": [
    "[Francis Lawrence](https://en.wikipedia.org/wiki/Francis_Lawrence) is pretty prolific so the data here seems right."
   ]
  },
  {
   "cell_type": "markdown",
   "metadata": {},
   "source": [
    "# Challenge 6\n",
    "Bin your dataset into months and make a bar graph of the mean domestic total gross by month. Error bars will represent the standard error of the mean.\n",
    "\n",
    "Title of graph should include: Mean Domestic Total Gross by Month in 2013\n",
    "\n",
    "Topic for consideration: what is the correct formula for the standard error of the mean? Examine the error bars and see if they are “reasonable.”"
   ]
  },
  {
   "cell_type": "markdown",
   "metadata": {},
   "source": [
    "Create a new column that holds the name of the month of the release date for  the movie in the same row as the release date"
   ]
  },
  {
   "cell_type": "code",
   "execution_count": null,
   "metadata": {},
   "outputs": [],
   "source": [
    "import seaborn as sns"
   ]
  },
  {
   "cell_type": "code",
   "execution_count": null,
   "metadata": {},
   "outputs": [],
   "source": [
    "movie_df[\"releasedMonth\"] = movie_df[\"releasedDateTime\"].dt.month_name()\n",
    "movie_df[\"releasedMonthNumber\"] = pd.DatetimeIndex(movie_df[\"releasedDateTime\"]).month"
   ]
  },
  {
   "cell_type": "code",
   "execution_count": null,
   "metadata": {},
   "outputs": [],
   "source": [
    "movie_avggross_per_month = movie_df.groupby([\"releasedMonthNumber\",\"releasedMonth\"])[\"domesticTotalGross\"].mean().reset_index()"
   ]
  },
  {
   "cell_type": "code",
   "execution_count": null,
   "metadata": {},
   "outputs": [],
   "source": [
    "movie_avggross_per_month.rename(columns={\"domesticTotalGross\":\"domesticMeanGross\"},inplace=True)"
   ]
  },
  {
   "cell_type": "code",
   "execution_count": null,
   "metadata": {},
   "outputs": [],
   "source": [
    "movie_avggross_per_month.sort_values([\"releasedMonthNumber\"],inplace=True)"
   ]
  },
  {
   "cell_type": "code",
   "execution_count": null,
   "metadata": {},
   "outputs": [],
   "source": [
    "movie_avggross_per_month"
   ]
  },
  {
   "cell_type": "code",
   "execution_count": null,
   "metadata": {},
   "outputs": [],
   "source": [
    "\n",
    "\n",
    "\n",
    "months_of_the_year = [\"January\",\"February\",\"March\",\"April\",\"May\",\"June\",\"July\",\"August\",\"September\",\"October\",\"November\",\"December\"]\n",
    "list_of_domestic_gross = []\n",
    "\n",
    "for month_name in months_of_the_year:\n",
    "    list_of_domestic_gross.append( movie_avggross_per_month[movie_avggross_per_month[\"releasedMonth\"]==month_name][\"domesticMeanGross\"] )"
   ]
  },
  {
   "cell_type": "code",
   "execution_count": null,
   "metadata": {},
   "outputs": [],
   "source": [
    "#len(list_of_domestic_gross)"
   ]
  },
  {
   "cell_type": "code",
   "execution_count": null,
   "metadata": {},
   "outputs": [],
   "source": [
    "plt.figure(figsize=(10,6))\n",
    "plt.plot(months_of_the_year,list_of_domestic_gross)\n",
    "plt.xticks(rotation=60)\n",
    "plt.xlabel(\"Month of the Year\")\n",
    "plt.ylabel(\"AVG Domestic Gross\")\n",
    "plt.title(\"AVG Domestic Gross for all movies released in month on X-axis in 2013\")\n",
    "plt.show();"
   ]
  },
  {
   "cell_type": "code",
   "execution_count": null,
   "metadata": {},
   "outputs": [],
   "source": [
    "plt.figure(figsize=(20,20))\n",
    "sns.boxplot(y=movie_avggross_per_month[\"domesticMeanGross\"],x=movie_avggross_per_month[\"releasedMonthNumber\"]);\n",
    "#movie_avggross_per_month.boxplot(figsize=(20,10),by=\"releasedMonthNumber\")"
   ]
  },
  {
   "cell_type": "code",
   "execution_count": null,
   "metadata": {},
   "outputs": [],
   "source": []
  },
  {
   "cell_type": "markdown",
   "metadata": {},
   "source": [
    "Going to attempt to pull up web site data for movies by name"
   ]
  },
  {
   "cell_type": "markdown",
   "metadata": {},
   "source": [
    "From inspecting the search result HTML all links to movies are found under these types of HTML elements:\n",
    "\n",
    "```html\n",
    "<div class=\"lister-item-content\">\n",
    "    <h3 class=\"lister-item-header\">\n",
    "    <!-- Stuff -->\n",
    "    <a href=\"LINK_TO_MOVIE\">NAME_OF_MOVIE</a>\n",
    "    <!-- Stuff -->\n",
    "    </h3>\n",
    "</div>\n",
    "      \n",
    "\n",
    "```\n",
    "\n",
    "So I should grab all the `<div>` tags with that class and then get the link within them\n"
   ]
  },
  {
   "cell_type": "markdown",
   "metadata": {},
   "source": [
    "IMDB Only shows the first 50 movies when you request search results.\n",
    "\n",
    "So I will need the link to the next 50 movies.\n",
    "\n",
    "That is located in the web page returned on the search request here:\n",
    "\n",
    "```html\n",
    "\n",
    "<div class=\"desc\">\n",
    "    <a href=\"LINK_TO_NEXT_PAGE_IN_SEARCH_RESULTS\">Next<!--text--></a>\n",
    "</div>\n",
    "\n",
    "```"
   ]
  },
  {
   "cell_type": "code",
   "execution_count": null,
   "metadata": {},
   "outputs": [],
   "source": []
  }
 ],
 "metadata": {
  "kernelspec": {
   "display_name": "Python 3",
   "language": "python",
   "name": "python3"
  },
  "language_info": {
   "codemirror_mode": {
    "name": "ipython",
    "version": 3
   },
   "file_extension": ".py",
   "mimetype": "text/x-python",
   "name": "python",
   "nbconvert_exporter": "python",
   "pygments_lexer": "ipython3",
   "version": "3.8.3"
  }
 },
 "nbformat": 4,
 "nbformat_minor": 4
}
